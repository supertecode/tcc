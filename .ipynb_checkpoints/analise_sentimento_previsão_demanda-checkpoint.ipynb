{
 "cells": [
  {
   "cell_type": "code",
   "execution_count": 1,
   "id": "b0b59b60",
   "metadata": {
    "tags": []
   },
   "outputs": [],
   "source": [
    "import pandas as pd\n",
    "#import re\n",
    "#import nltk\n",
    "#from nltk.corpus import stopwords\n",
    "#from nltk.tokenize import word_tokenize\n",
    "#from nltk.stem import WordNetLemmatizer"
   ]
  },
  {
   "cell_type": "code",
   "execution_count": 2,
   "id": "b045f04d",
   "metadata": {
    "tags": []
   },
   "outputs": [],
   "source": [
    "# Carregar os datasets que serão utilizados\n",
    "orders = pd.read_csv(\"Data/olist_orders_dataset.csv\")\n",
    "order_items = pd.read_csv(\"Data/olist_order_items_dataset.csv\")\n",
    "products = pd.read_csv(\"Data/olist_products_dataset.csv\")\n",
    "reviews = pd.read_csv(\"Data/olist_order_reviews_dataset.csv\")\n",
    "payments = pd.read_csv(\"Data/olist_order_payments_dataset.csv\") \n",
    "sellers = pd.read_csv(\"Data/olist_sellers_dataset.csv\")\n",
    "customer =pd.read_csv(\"Data/olist_customers_dataset.csv\")\n",
    "geolocation = pd.read_csv(\"Data/olist_geolocation_dataset.csv\")"
   ]
  },
  {
   "cell_type": "code",
   "execution_count": 3,
   "id": "a838673a",
   "metadata": {
    "tags": []
   },
   "outputs": [],
   "source": [
    "# Unindo tabelas pela chave primária\n",
    "df = orders.merge(order_items, on=\"order_id\", how=\"left\")  # Junta pedidos com itens\n",
    "df = df.merge(products, on=\"product_id\", how=\"left\")  # Junta produtos\n",
    "df = df.merge(reviews, on=\"order_id\", how=\"left\")  # Junta avaliações\n",
    "df = df.merge(payments, on=\"order_id\", how=\"right\")\n",
    "df = df.merge(sellers, on=\"seller_id\", how=\"right\")\n",
    "df = df.merge(customer, on=\"customer_id\", how=\"right\")"
   ]
  },
  {
   "cell_type": "code",
   "execution_count": 4,
   "id": "2fdb7d77",
   "metadata": {
    "tags": []
   },
   "outputs": [
    {
     "name": "stdout",
     "output_type": "stream",
     "text": [
      "<class 'pandas.core.frame.DataFrame'>\n",
      "RangeIndex: 119091 entries, 0 to 119090\n",
      "Data columns (total 39 columns):\n",
      " #   Column                         Non-Null Count   Dtype  \n",
      "---  ------                         --------------   -----  \n",
      " 0   order_id                       118315 non-null  object \n",
      " 1   customer_id                    119091 non-null  object \n",
      " 2   order_status                   118315 non-null  object \n",
      " 3   order_purchase_timestamp       118315 non-null  object \n",
      " 4   order_approved_at              118300 non-null  object \n",
      " 5   order_delivered_carrier_date   117061 non-null  object \n",
      " 6   order_delivered_customer_date  115727 non-null  object \n",
      " 7   order_estimated_delivery_date  118315 non-null  object \n",
      " 8   order_item_id                  118315 non-null  float64\n",
      " 9   product_id                     118315 non-null  object \n",
      " 10  seller_id                      118315 non-null  object \n",
      " 11  shipping_limit_date            118315 non-null  object \n",
      " 12  price                          118315 non-null  float64\n",
      " 13  freight_value                  118315 non-null  float64\n",
      " 14  product_category_name          116606 non-null  object \n",
      " 15  product_name_lenght            116606 non-null  float64\n",
      " 16  product_description_lenght     116606 non-null  float64\n",
      " 17  product_photos_qty             116606 non-null  float64\n",
      " 18  product_weight_g               118295 non-null  float64\n",
      " 19  product_length_cm              118295 non-null  float64\n",
      " 20  product_height_cm              118295 non-null  float64\n",
      " 21  product_width_cm               118295 non-null  float64\n",
      " 22  review_id                      118315 non-null  object \n",
      " 23  review_score                   118315 non-null  float64\n",
      " 24  review_comment_title           14089 non-null   object \n",
      " 25  review_comment_message         50665 non-null   object \n",
      " 26  review_creation_date           118315 non-null  object \n",
      " 27  review_answer_timestamp        118315 non-null  object \n",
      " 28  payment_sequential             118315 non-null  float64\n",
      " 29  payment_type                   118315 non-null  object \n",
      " 30  payment_installments           118315 non-null  float64\n",
      " 31  payment_value                  118315 non-null  float64\n",
      " 32  seller_zip_code_prefix         118315 non-null  float64\n",
      " 33  seller_city                    118315 non-null  object \n",
      " 34  seller_state                   118315 non-null  object \n",
      " 35  customer_unique_id             119091 non-null  object \n",
      " 36  customer_zip_code_prefix       119091 non-null  int64  \n",
      " 37  customer_city                  119091 non-null  object \n",
      " 38  customer_state                 119091 non-null  object \n",
      "dtypes: float64(15), int64(1), object(23)\n",
      "memory usage: 35.4+ MB\n"
     ]
    }
   ],
   "source": [
    "# Exibir as primeiras linhas\n",
    "df.head()\n",
    "# Exibir informações gerais da base de dados\n",
    "df.info()"
   ]
  },
  {
   "cell_type": "code",
   "execution_count": 5,
   "id": "240ae03f",
   "metadata": {
    "tags": []
   },
   "outputs": [
    {
     "name": "stdout",
     "output_type": "stream",
     "text": [
      "order_id                            776\n",
      "customer_id                           0\n",
      "order_status                        776\n",
      "order_purchase_timestamp            776\n",
      "order_approved_at                   791\n",
      "order_delivered_carrier_date       2030\n",
      "order_delivered_customer_date      3364\n",
      "order_estimated_delivery_date       776\n",
      "order_item_id                       776\n",
      "product_id                          776\n",
      "seller_id                           776\n",
      "shipping_limit_date                 776\n",
      "price                               776\n",
      "freight_value                       776\n",
      "product_category_name              2485\n",
      "product_name_lenght                2485\n",
      "product_description_lenght         2485\n",
      "product_photos_qty                 2485\n",
      "product_weight_g                    796\n",
      "product_length_cm                   796\n",
      "product_height_cm                   796\n",
      "product_width_cm                    796\n",
      "review_id                           776\n",
      "review_score                        776\n",
      "review_comment_title             105002\n",
      "review_comment_message            68426\n",
      "review_creation_date                776\n",
      "review_answer_timestamp             776\n",
      "payment_sequential                  776\n",
      "payment_type                        776\n",
      "payment_installments                776\n",
      "payment_value                       776\n",
      "seller_zip_code_prefix              776\n",
      "seller_city                         776\n",
      "seller_state                        776\n",
      "customer_unique_id                    0\n",
      "customer_zip_code_prefix              0\n",
      "customer_city                         0\n",
      "customer_state                        0\n",
      "dtype: int64\n"
     ]
    }
   ],
   "source": [
    "# Verificar valores nulos em cada coluna\n",
    "print(df.isnull().sum())\n",
    "# Antes de remover todos os valores nulos precisamos verificar quais colunas usaremos na etapa de processamento"
   ]
  },
  {
   "cell_type": "code",
   "execution_count": 6,
   "id": "82b8434b-9c5d-4c6c-b467-a59382af08a8",
   "metadata": {
    "tags": []
   },
   "outputs": [],
   "source": [
    "df = df.drop([\"order_id\", \"customer_id\", \"order_item_id\", \"product_id\", \"seller_id\", \"review_id\", \"review_creation_date\", \"review_answer_timestamp\",\n",
    "              \"order_purchase_timestamp\", \"order_approved_at\", \"order_delivered_carrier_date\", \"order_delivered_customer_date\", \"order_estimated_delivery_date\",\n",
    "              \"product_name_lenght\", \"product_description_lenght\", \"seller_zip_code_prefix\", \"customer_zip_code_prefix\", \"shipping_limit_date\"], axis=1)\n",
    "#talvez seja necessário dar uma revisada no order_status, pois há pedidos que não estão em situação de entrega ou estão em outras situações\n",
    "#Acredito também que novos dados possam ser produzidos, exemplo: tempo de demora da entrega. A partir de dados como data de envio e data de chegada seria possível gerar essa nova informação, mas por enquanto as datas foram removidas\n"
   ]
  },
  {
   "cell_type": "code",
   "execution_count": 7,
   "id": "8e20a29b-52af-4a6a-9cb3-9392c230b8b8",
   "metadata": {
    "tags": []
   },
   "outputs": [
    {
     "name": "stdout",
     "output_type": "stream",
     "text": [
      "<class 'pandas.core.frame.DataFrame'>\n",
      "RangeIndex: 119091 entries, 0 to 119090\n",
      "Data columns (total 21 columns):\n",
      " #   Column                  Non-Null Count   Dtype  \n",
      "---  ------                  --------------   -----  \n",
      " 0   order_status            118315 non-null  object \n",
      " 1   price                   118315 non-null  float64\n",
      " 2   freight_value           118315 non-null  float64\n",
      " 3   product_category_name   116606 non-null  object \n",
      " 4   product_photos_qty      116606 non-null  float64\n",
      " 5   product_weight_g        118295 non-null  float64\n",
      " 6   product_length_cm       118295 non-null  float64\n",
      " 7   product_height_cm       118295 non-null  float64\n",
      " 8   product_width_cm        118295 non-null  float64\n",
      " 9   review_score            118315 non-null  float64\n",
      " 10  review_comment_title    14089 non-null   object \n",
      " 11  review_comment_message  50665 non-null   object \n",
      " 12  payment_sequential      118315 non-null  float64\n",
      " 13  payment_type            118315 non-null  object \n",
      " 14  payment_installments    118315 non-null  float64\n",
      " 15  payment_value           118315 non-null  float64\n",
      " 16  seller_city             118315 non-null  object \n",
      " 17  seller_state            118315 non-null  object \n",
      " 18  customer_unique_id      119091 non-null  object \n",
      " 19  customer_city           119091 non-null  object \n",
      " 20  customer_state          119091 non-null  object \n",
      "dtypes: float64(11), object(10)\n",
      "memory usage: 19.1+ MB\n"
     ]
    }
   ],
   "source": [
    "df.info()"
   ]
  },
  {
   "cell_type": "code",
   "execution_count": null,
   "id": "1cc56d92",
   "metadata": {},
   "outputs": [],
   "source": [
    "#Vamos exportar essa base para csv. para termos uma melhor visualização no PowerQuerry\n",
    "df.to_excel('dados_tratados.xlsx', index = False, engine='openpyxl')"
   ]
  },
  {
   "cell_type": "code",
   "execution_count": null,
   "id": "4bd045fc",
   "metadata": {},
   "outputs": [],
   "source": [
    "\"\"\"\"\"\n",
    "nltk.download(\"stopwords\")\n",
    "nltk.download(\"punkt\")\n",
    "nltk.download(\"wordnet\")"
   ]
  },
  {
   "cell_type": "code",
   "execution_count": null,
   "id": "19e54e6d",
   "metadata": {},
   "outputs": [],
   "source": [
    "\"\"\"\"\"\n",
    "# Carregar dataset\n",
    "df = pd.read_csv(\"olist_order_reviews_dataset.csv\")\n",
    "\n",
    "# Inicializar lematizador\n",
    "lemmatizer = WordNetLemmatizer()\n",
    "stop_words = set(stopwords.words(\"portuguese\"))"
   ]
  },
  {
   "cell_type": "code",
   "execution_count": null,
   "id": "fbfa1eb2",
   "metadata": {},
   "outputs": [],
   "source": [
    "\"\"\"\"\n",
    "# Função de limpeza\n",
    "def preprocess_text(text):\n",
    "    if pd.isnull(text):\n",
    "        return \"\"\n",
    "    text = text.lower()  # Converter para minúsculas\n",
    "    text = re.sub(r\"[^\\w\\s]\", \"\", text)  # Remover pontuação\n",
    "    text = re.sub(r\"\\d+\", \"\", text)  # Remover números\n",
    "    tokens = word_tokenize(text)  # Tokenizar\n",
    "    tokens = [lemmatizer.lemmatize(word) for word in tokens if word not in stop_words]  # Remover stopwords e lematizar\n",
    "    return \" \".join(tokens)"
   ]
  },
  {
   "cell_type": "code",
   "execution_count": null,
   "id": "4bef22a0",
   "metadata": {},
   "outputs": [],
   "source": [
    "\"\"\"\"\n",
    "# Aplicar a limpeza nos comentários\n",
    "df[\"cleaned_review\"] = df[\"review_comment_message\"].apply(preprocess_text)\n",
    "print(df[[\"review_comment_message\", \"cleaned_review\"]].head())"
   ]
  }
 ],
 "metadata": {
  "kernelspec": {
   "display_name": "Python 3 (ipykernel)",
   "language": "python",
   "name": "python3"
  },
  "language_info": {
   "codemirror_mode": {
    "name": "ipython",
    "version": 3
   },
   "file_extension": ".py",
   "mimetype": "text/x-python",
   "name": "python",
   "nbconvert_exporter": "python",
   "pygments_lexer": "ipython3",
   "version": "3.11.4"
  }
 },
 "nbformat": 4,
 "nbformat_minor": 5
}
