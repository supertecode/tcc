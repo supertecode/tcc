{
 "cells": [
  {
   "cell_type": "code",
   "execution_count": 1,
   "id": "b0b59b60",
   "metadata": {
    "tags": []
   },
   "outputs": [],
   "source": [
    "import pandas as pd\n",
    "#import re\n",
    "#import nltk\n",
    "#from nltk.corpus import stopwords\n",
    "#from nltk.tokenize import word_tokenize\n",
    "#from nltk.stem import WordNetLemmatizer"
   ]
  },
  {
   "cell_type": "code",
   "execution_count": 2,
   "id": "b045f04d",
   "metadata": {
    "tags": []
   },
   "outputs": [],
   "source": [
    "# Carregar os datasets que serão utilizados\n",
    "orders = pd.read_csv(\"Data/olist_orders_dataset.csv\")\n",
    "order_items = pd.read_csv(\"Data/olist_order_items_dataset.csv\")\n",
    "products = pd.read_csv(\"Data/olist_products_dataset.csv\")\n",
    "reviews = pd.read_csv(\"Data/olist_order_reviews_dataset.csv\")\n",
    "payments = pd.read_csv(\"Data/olist_order_payments_dataset.csv\") \n",
    "sellers = pd.read_csv(\"Data/olist_sellers_dataset.csv\")\n",
    "customer =pd.read_csv(\"Data/olist_customers_dataset.csv\")\n",
    "geolocation = pd.read_csv(\"Data/olist_geolocation_dataset.csv\")"
   ]
  },
  {
   "cell_type": "code",
   "execution_count": 3,
   "id": "a838673a",
   "metadata": {
    "tags": []
   },
   "outputs": [],
   "source": [
    "# Unindo tabelas pela chave primária\n",
    "df = orders.merge(order_items, on=\"order_id\", how=\"left\")  # Junta pedidos com itens\n",
    "df = df.merge(products, on=\"product_id\", how=\"left\")  # Junta produtos\n",
    "df = df.merge(reviews, on=\"order_id\", how=\"left\")  # Junta avaliações\n",
    "df = df.merge(payments, on=\"order_id\", how=\"right\")\n",
    "df = df.merge(sellers, on=\"seller_id\", how=\"right\")\n",
    "df = df.merge(customer, on=\"customer_id\", how=\"right\")"
   ]
  },
  {
   "cell_type": "code",
   "execution_count": 4,
   "id": "2fdb7d77",
   "metadata": {
    "tags": []
   },
   "outputs": [
    {
     "name": "stdout",
     "output_type": "stream",
     "text": [
      "<class 'pandas.core.frame.DataFrame'>\n",
      "RangeIndex: 119091 entries, 0 to 119090\n",
      "Data columns (total 39 columns):\n",
      " #   Column                         Non-Null Count   Dtype  \n",
      "---  ------                         --------------   -----  \n",
      " 0   order_id                       118315 non-null  object \n",
      " 1   customer_id                    119091 non-null  object \n",
      " 2   order_status                   118315 non-null  object \n",
      " 3   order_purchase_timestamp       118315 non-null  object \n",
      " 4   order_approved_at              118300 non-null  object \n",
      " 5   order_delivered_carrier_date   117061 non-null  object \n",
      " 6   order_delivered_customer_date  115727 non-null  object \n",
      " 7   order_estimated_delivery_date  118315 non-null  object \n",
      " 8   order_item_id                  118315 non-null  float64\n",
      " 9   product_id                     118315 non-null  object \n",
      " 10  seller_id                      118315 non-null  object \n",
      " 11  shipping_limit_date            118315 non-null  object \n",
      " 12  price                          118315 non-null  float64\n",
      " 13  freight_value                  118315 non-null  float64\n",
      " 14  product_category_name          116606 non-null  object \n",
      " 15  product_name_lenght            116606 non-null  float64\n",
      " 16  product_description_lenght     116606 non-null  float64\n",
      " 17  product_photos_qty             116606 non-null  float64\n",
      " 18  product_weight_g               118295 non-null  float64\n",
      " 19  product_length_cm              118295 non-null  float64\n",
      " 20  product_height_cm              118295 non-null  float64\n",
      " 21  product_width_cm               118295 non-null  float64\n",
      " 22  review_id                      118315 non-null  object \n",
      " 23  review_score                   118315 non-null  float64\n",
      " 24  review_comment_title           14089 non-null   object \n",
      " 25  review_comment_message         50665 non-null   object \n",
      " 26  review_creation_date           118315 non-null  object \n",
      " 27  review_answer_timestamp        118315 non-null  object \n",
      " 28  payment_sequential             118315 non-null  float64\n",
      " 29  payment_type                   118315 non-null  object \n",
      " 30  payment_installments           118315 non-null  float64\n",
      " 31  payment_value                  118315 non-null  float64\n",
      " 32  seller_zip_code_prefix         118315 non-null  float64\n",
      " 33  seller_city                    118315 non-null  object \n",
      " 34  seller_state                   118315 non-null  object \n",
      " 35  customer_unique_id             119091 non-null  object \n",
      " 36  customer_zip_code_prefix       119091 non-null  int64  \n",
      " 37  customer_city                  119091 non-null  object \n",
      " 38  customer_state                 119091 non-null  object \n",
      "dtypes: float64(15), int64(1), object(23)\n",
      "memory usage: 35.4+ MB\n"
     ]
    }
   ],
   "source": [
    "# Exibir as primeiras linhas\n",
    "df.head()\n",
    "# Exibir informações gerais da base de dados\n",
    "df.info()"
   ]
  },
  {
   "cell_type": "code",
   "execution_count": 5,
   "id": "240ae03f",
   "metadata": {
    "tags": []
   },
   "outputs": [
    {
     "name": "stdout",
     "output_type": "stream",
     "text": [
      "order_id                            776\n",
      "customer_id                           0\n",
      "order_status                        776\n",
      "order_purchase_timestamp            776\n",
      "order_approved_at                   791\n",
      "order_delivered_carrier_date       2030\n",
      "order_delivered_customer_date      3364\n",
      "order_estimated_delivery_date       776\n",
      "order_item_id                       776\n",
      "product_id                          776\n",
      "seller_id                           776\n",
      "shipping_limit_date                 776\n",
      "price                               776\n",
      "freight_value                       776\n",
      "product_category_name              2485\n",
      "product_name_lenght                2485\n",
      "product_description_lenght         2485\n",
      "product_photos_qty                 2485\n",
      "product_weight_g                    796\n",
      "product_length_cm                   796\n",
      "product_height_cm                   796\n",
      "product_width_cm                    796\n",
      "review_id                           776\n",
      "review_score                        776\n",
      "review_comment_title             105002\n",
      "review_comment_message            68426\n",
      "review_creation_date                776\n",
      "review_answer_timestamp             776\n",
      "payment_sequential                  776\n",
      "payment_type                        776\n",
      "payment_installments                776\n",
      "payment_value                       776\n",
      "seller_zip_code_prefix              776\n",
      "seller_city                         776\n",
      "seller_state                        776\n",
      "customer_unique_id                    0\n",
      "customer_zip_code_prefix              0\n",
      "customer_city                         0\n",
      "customer_state                        0\n",
      "dtype: int64\n"
     ]
    }
   ],
   "source": [
    "# Verificar valores nulos em cada coluna\n",
    "print(df.isnull().sum())\n",
    "# Antes de remover todos os valores nulos precisamos verificar quais colunas usaremos na etapa de processamento"
   ]
  },
  {
   "cell_type": "code",
   "execution_count": 6,
   "id": "82b8434b-9c5d-4c6c-b467-a59382af08a8",
   "metadata": {
    "tags": []
   },
   "outputs": [],
   "source": [
    "df = df.drop([\"order_id\", \"customer_id\", \"order_item_id\", \"product_id\", \"seller_id\", \"review_id\", \"review_creation_date\", \"review_answer_timestamp\",\n",
    "              \"order_purchase_timestamp\", \"order_approved_at\", \"order_delivered_carrier_date\", \"order_delivered_customer_date\", \"order_estimated_delivery_date\",\n",
    "              \"product_name_lenght\", \"product_description_lenght\", \"seller_zip_code_prefix\", \"customer_zip_code_prefix\", \"shipping_limit_date\", \"customer_unique_id\"], axis=1)\n",
    "#talvez seja necessário dar uma revisada no order_status, pois há pedidos que não estão em situação de entrega ou estão em outras situações\n",
    "#Acredito também que novos dados possam ser produzidos, exemplo: tempo de demora da entrega. A partir de dados como data de envio e data de chegada seria possível gerar essa nova informação, mas por enquanto as datas foram removidas\n"
   ]
  },
  {
   "cell_type": "code",
   "execution_count": 7,
   "id": "8e20a29b-52af-4a6a-9cb3-9392c230b8b8",
   "metadata": {
    "tags": []
   },
   "outputs": [
    {
     "name": "stdout",
     "output_type": "stream",
     "text": [
      "<class 'pandas.core.frame.DataFrame'>\n",
      "RangeIndex: 119091 entries, 0 to 119090\n",
      "Data columns (total 20 columns):\n",
      " #   Column                  Non-Null Count   Dtype  \n",
      "---  ------                  --------------   -----  \n",
      " 0   order_status            118315 non-null  object \n",
      " 1   price                   118315 non-null  float64\n",
      " 2   freight_value           118315 non-null  float64\n",
      " 3   product_category_name   116606 non-null  object \n",
      " 4   product_photos_qty      116606 non-null  float64\n",
      " 5   product_weight_g        118295 non-null  float64\n",
      " 6   product_length_cm       118295 non-null  float64\n",
      " 7   product_height_cm       118295 non-null  float64\n",
      " 8   product_width_cm        118295 non-null  float64\n",
      " 9   review_score            118315 non-null  float64\n",
      " 10  review_comment_title    14089 non-null   object \n",
      " 11  review_comment_message  50665 non-null   object \n",
      " 12  payment_sequential      118315 non-null  float64\n",
      " 13  payment_type            118315 non-null  object \n",
      " 14  payment_installments    118315 non-null  float64\n",
      " 15  payment_value           118315 non-null  float64\n",
      " 16  seller_city             118315 non-null  object \n",
      " 17  seller_state            118315 non-null  object \n",
      " 18  customer_city           119091 non-null  object \n",
      " 19  customer_state          119091 non-null  object \n",
      "dtypes: float64(11), object(9)\n",
      "memory usage: 18.2+ MB\n"
     ]
    }
   ],
   "source": [
    "df.info()"
   ]
  },
  {
   "cell_type": "code",
   "execution_count": 8,
   "id": "6f51c1bb-1914-4b7b-a219-7939dd4b01ae",
   "metadata": {
    "tags": []
   },
   "outputs": [
    {
     "data": {
      "text/plain": [
       "order_status\n",
       "delivered      115728\n",
       "shipped          1255\n",
       "canceled          570\n",
       "invoiced          376\n",
       "processing        376\n",
       "unavailable         7\n",
       "approved            3\n",
       "Name: count, dtype: int64"
      ]
     },
     "execution_count": 8,
     "metadata": {},
     "output_type": "execute_result"
    }
   ],
   "source": [
    "df[\"order_status\"].value_counts()"
   ]
  },
  {
   "cell_type": "code",
   "execution_count": 9,
   "id": "0014c95f-71a6-4fd6-8e01-9bf9327b0727",
   "metadata": {
    "tags": []
   },
   "outputs": [],
   "source": [
    "#Vamos manter somente as colunas que estão com pedidos entregues, pois somente esses pedidos poderão ter avaliações dos usuários \n",
    "df = df[df[\"order_status\"]==\"delivered\"]"
   ]
  },
  {
   "cell_type": "code",
   "execution_count": 10,
   "id": "6ce8341a-6290-49e2-9b7a-a12c57a4d4ab",
   "metadata": {
    "tags": []
   },
   "outputs": [
    {
     "data": {
      "text/plain": [
       "order_status\n",
       "delivered    115728\n",
       "Name: count, dtype: int64"
      ]
     },
     "execution_count": 10,
     "metadata": {},
     "output_type": "execute_result"
    }
   ],
   "source": [
    "df[\"order_status\"].value_counts()"
   ]
  },
  {
   "cell_type": "code",
   "execution_count": 11,
   "id": "e05d6e42-1433-403f-a415-cfc3837c74df",
   "metadata": {
    "tags": []
   },
   "outputs": [
    {
     "name": "stdout",
     "output_type": "stream",
     "text": [
      "<class 'pandas.core.frame.DataFrame'>\n",
      "Index: 115728 entries, 0 to 119090\n",
      "Data columns (total 20 columns):\n",
      " #   Column                  Non-Null Count   Dtype  \n",
      "---  ------                  --------------   -----  \n",
      " 0   order_status            115728 non-null  object \n",
      " 1   price                   115728 non-null  float64\n",
      " 2   freight_value           115728 non-null  float64\n",
      " 3   product_category_name   114090 non-null  object \n",
      " 4   product_photos_qty      114090 non-null  float64\n",
      " 5   product_weight_g        115708 non-null  float64\n",
      " 6   product_length_cm       115708 non-null  float64\n",
      " 7   product_height_cm       115708 non-null  float64\n",
      " 8   product_width_cm        115708 non-null  float64\n",
      " 9   review_score            115728 non-null  float64\n",
      " 10  review_comment_title    13751 non-null   object \n",
      " 11  review_comment_message  48961 non-null   object \n",
      " 12  payment_sequential      115728 non-null  float64\n",
      " 13  payment_type            115728 non-null  object \n",
      " 14  payment_installments    115728 non-null  float64\n",
      " 15  payment_value           115728 non-null  float64\n",
      " 16  seller_city             115728 non-null  object \n",
      " 17  seller_state            115728 non-null  object \n",
      " 18  customer_city           115728 non-null  object \n",
      " 19  customer_state          115728 non-null  object \n",
      "dtypes: float64(11), object(9)\n",
      "memory usage: 18.5+ MB\n"
     ]
    }
   ],
   "source": [
    "df.info()"
   ]
  },
  {
   "cell_type": "code",
   "execution_count": 12,
   "id": "f34cc41f-f5a7-4bb2-a9f9-5b57e37ca068",
   "metadata": {
    "tags": []
   },
   "outputs": [
    {
     "name": "stdout",
     "output_type": "stream",
     "text": [
      "order_status                   0\n",
      "price                          0\n",
      "freight_value                  0\n",
      "product_category_name       1638\n",
      "product_photos_qty          1638\n",
      "product_weight_g              20\n",
      "product_length_cm             20\n",
      "product_height_cm             20\n",
      "product_width_cm              20\n",
      "review_score                   0\n",
      "review_comment_title      101977\n",
      "review_comment_message     66767\n",
      "payment_sequential             0\n",
      "payment_type                   0\n",
      "payment_installments           0\n",
      "payment_value                  0\n",
      "seller_city                    0\n",
      "seller_state                   0\n",
      "customer_city                  0\n",
      "customer_state                 0\n",
      "dtype: int64\n"
     ]
    }
   ],
   "source": [
    "print(df.isnull().sum())"
   ]
  },
  {
   "cell_type": "code",
   "execution_count": 13,
   "id": "a0b46cda-3fa6-4142-96fb-411addf42623",
   "metadata": {
    "tags": []
   },
   "outputs": [],
   "source": [
    "#aqui iremos trabalhar somente com com os dados que possuem o campo reviw_comment_message, que é fundamental para a futura análise de sentimento\n",
    "df = df.dropna(subset = [\"review_comment_message\"])"
   ]
  },
  {
   "cell_type": "code",
   "execution_count": 14,
   "id": "6e0f58b0-c5ba-4216-87d1-1d3aee3092f7",
   "metadata": {
    "tags": []
   },
   "outputs": [
    {
     "name": "stdout",
     "output_type": "stream",
     "text": [
      "<class 'pandas.core.frame.DataFrame'>\n",
      "Index: 48961 entries, 4 to 119090\n",
      "Data columns (total 20 columns):\n",
      " #   Column                  Non-Null Count  Dtype  \n",
      "---  ------                  --------------  -----  \n",
      " 0   order_status            48961 non-null  object \n",
      " 1   price                   48961 non-null  float64\n",
      " 2   freight_value           48961 non-null  float64\n",
      " 3   product_category_name   48232 non-null  object \n",
      " 4   product_photos_qty      48232 non-null  float64\n",
      " 5   product_weight_g        48947 non-null  float64\n",
      " 6   product_length_cm       48947 non-null  float64\n",
      " 7   product_height_cm       48947 non-null  float64\n",
      " 8   product_width_cm        48947 non-null  float64\n",
      " 9   review_score            48961 non-null  float64\n",
      " 10  review_comment_title    11823 non-null  object \n",
      " 11  review_comment_message  48961 non-null  object \n",
      " 12  payment_sequential      48961 non-null  float64\n",
      " 13  payment_type            48961 non-null  object \n",
      " 14  payment_installments    48961 non-null  float64\n",
      " 15  payment_value           48961 non-null  float64\n",
      " 16  seller_city             48961 non-null  object \n",
      " 17  seller_state            48961 non-null  object \n",
      " 18  customer_city           48961 non-null  object \n",
      " 19  customer_state          48961 non-null  object \n",
      "dtypes: float64(11), object(9)\n",
      "memory usage: 7.8+ MB\n"
     ]
    }
   ],
   "source": [
    "df.info()"
   ]
  },
  {
   "cell_type": "code",
   "execution_count": 15,
   "id": "eaf7fe9f-f264-4e65-8d97-3b15a23a4410",
   "metadata": {
    "tags": []
   },
   "outputs": [
    {
     "name": "stdout",
     "output_type": "stream",
     "text": [
      "order_status                  0\n",
      "price                         0\n",
      "freight_value                 0\n",
      "product_category_name       729\n",
      "product_photos_qty          729\n",
      "product_weight_g             14\n",
      "product_length_cm            14\n",
      "product_height_cm            14\n",
      "product_width_cm             14\n",
      "review_score                  0\n",
      "review_comment_title      37138\n",
      "review_comment_message        0\n",
      "payment_sequential            0\n",
      "payment_type                  0\n",
      "payment_installments          0\n",
      "payment_value                 0\n",
      "seller_city                   0\n",
      "seller_state                  0\n",
      "customer_city                 0\n",
      "customer_state                0\n",
      "dtype: int64\n"
     ]
    }
   ],
   "source": [
    "print(df.isnull().sum())"
   ]
  },
  {
   "cell_type": "code",
   "execution_count": 16,
   "id": "8cf1da04-b728-41fc-804d-cd534c36016d",
   "metadata": {
    "tags": []
   },
   "outputs": [],
   "source": [
    "#Como os valores nulos são muito poucos comparados ao numéro total de registro vamos deletar todos e vamos deixar somente os valores nulos na coluna review_comment_title\n",
    "df = df.dropna(subset = [\"product_category_name\"])\n",
    "df = df.dropna(subset = [\"product_photos_qty\"])\n",
    "df = df.dropna(subset = [\"product_weight_g\"])\n",
    "df = df.dropna(subset = [\"product_length_cm\"])\n",
    "df = df.dropna(subset = [\"product_height_cm\"])\n",
    "df = df.dropna(subset = [\"product_width_cm\"])"
   ]
  },
  {
   "cell_type": "code",
   "execution_count": 17,
   "id": "87c7f672-f4e7-4e0d-a0fc-d9f042a50327",
   "metadata": {
    "tags": []
   },
   "outputs": [
    {
     "name": "stdout",
     "output_type": "stream",
     "text": [
      "order_status                  0\n",
      "price                         0\n",
      "freight_value                 0\n",
      "product_category_name         0\n",
      "product_photos_qty            0\n",
      "product_weight_g              0\n",
      "product_length_cm             0\n",
      "product_height_cm             0\n",
      "product_width_cm              0\n",
      "review_score                  0\n",
      "review_comment_title      36477\n",
      "review_comment_message        0\n",
      "payment_sequential            0\n",
      "payment_type                  0\n",
      "payment_installments          0\n",
      "payment_value                 0\n",
      "seller_city                   0\n",
      "seller_state                  0\n",
      "customer_city                 0\n",
      "customer_state                0\n",
      "dtype: int64\n"
     ]
    }
   ],
   "source": [
    "print(df.isnull().sum())"
   ]
  },
  {
   "cell_type": "code",
   "execution_count": 18,
   "id": "a5b9db04-1b7f-4fe9-8710-2c9402fd585e",
   "metadata": {
    "tags": []
   },
   "outputs": [
    {
     "name": "stdout",
     "output_type": "stream",
     "text": [
      "<class 'pandas.core.frame.DataFrame'>\n",
      "Index: 48232 entries, 4 to 119090\n",
      "Data columns (total 20 columns):\n",
      " #   Column                  Non-Null Count  Dtype  \n",
      "---  ------                  --------------  -----  \n",
      " 0   order_status            48232 non-null  object \n",
      " 1   price                   48232 non-null  float64\n",
      " 2   freight_value           48232 non-null  float64\n",
      " 3   product_category_name   48232 non-null  object \n",
      " 4   product_photos_qty      48232 non-null  float64\n",
      " 5   product_weight_g        48232 non-null  float64\n",
      " 6   product_length_cm       48232 non-null  float64\n",
      " 7   product_height_cm       48232 non-null  float64\n",
      " 8   product_width_cm        48232 non-null  float64\n",
      " 9   review_score            48232 non-null  float64\n",
      " 10  review_comment_title    11755 non-null  object \n",
      " 11  review_comment_message  48232 non-null  object \n",
      " 12  payment_sequential      48232 non-null  float64\n",
      " 13  payment_type            48232 non-null  object \n",
      " 14  payment_installments    48232 non-null  float64\n",
      " 15  payment_value           48232 non-null  float64\n",
      " 16  seller_city             48232 non-null  object \n",
      " 17  seller_state            48232 non-null  object \n",
      " 18  customer_city           48232 non-null  object \n",
      " 19  customer_state          48232 non-null  object \n",
      "dtypes: float64(11), object(9)\n",
      "memory usage: 7.7+ MB\n"
     ]
    }
   ],
   "source": [
    "df.info()"
   ]
  },
  {
   "cell_type": "code",
   "execution_count": null,
   "id": "b3416cf5-1711-49b2-91db-f84e04b4ed88",
   "metadata": {},
   "outputs": [],
   "source": [
    "#É necessário realizar a tratativa da coluna review_comment_title\n",
    "#Sugestão1: Inserir o valor da moda nos registros que forem nulos\n",
    "#Sugestão2: Pesquisar outras abordagens para realizar o tratamento "
   ]
  },
  {
   "cell_type": "code",
   "execution_count": 19,
   "id": "62087b1c-3ee1-4e94-ab75-e0f31e1b8c03",
   "metadata": {
    "tags": []
   },
   "outputs": [
    {
     "data": {
      "text/html": [
       "<div>\n",
       "<style scoped>\n",
       "    .dataframe tbody tr th:only-of-type {\n",
       "        vertical-align: middle;\n",
       "    }\n",
       "\n",
       "    .dataframe tbody tr th {\n",
       "        vertical-align: top;\n",
       "    }\n",
       "\n",
       "    .dataframe thead th {\n",
       "        text-align: right;\n",
       "    }\n",
       "</style>\n",
       "<table border=\"1\" class=\"dataframe\">\n",
       "  <thead>\n",
       "    <tr style=\"text-align: right;\">\n",
       "      <th></th>\n",
       "      <th>order_status</th>\n",
       "      <th>price</th>\n",
       "      <th>freight_value</th>\n",
       "      <th>product_category_name</th>\n",
       "      <th>product_photos_qty</th>\n",
       "      <th>product_weight_g</th>\n",
       "      <th>product_length_cm</th>\n",
       "      <th>product_height_cm</th>\n",
       "      <th>product_width_cm</th>\n",
       "      <th>review_score</th>\n",
       "      <th>review_comment_title</th>\n",
       "      <th>review_comment_message</th>\n",
       "      <th>payment_sequential</th>\n",
       "      <th>payment_type</th>\n",
       "      <th>payment_installments</th>\n",
       "      <th>payment_value</th>\n",
       "      <th>seller_city</th>\n",
       "      <th>seller_state</th>\n",
       "      <th>customer_city</th>\n",
       "      <th>customer_state</th>\n",
       "    </tr>\n",
       "  </thead>\n",
       "  <tbody>\n",
       "    <tr>\n",
       "      <th>4</th>\n",
       "      <td>delivered</td>\n",
       "      <td>230.00</td>\n",
       "      <td>22.25</td>\n",
       "      <td>casa_conforto</td>\n",
       "      <td>1.0</td>\n",
       "      <td>5200.0</td>\n",
       "      <td>45.0</td>\n",
       "      <td>15.0</td>\n",
       "      <td>35.0</td>\n",
       "      <td>5.0</td>\n",
       "      <td>a melhor nota</td>\n",
       "      <td>O baratheon è esxelente Amo adoro o baratheon</td>\n",
       "      <td>1.0</td>\n",
       "      <td>credit_card</td>\n",
       "      <td>8.0</td>\n",
       "      <td>252.25</td>\n",
       "      <td>ibitinga</td>\n",
       "      <td>SP</td>\n",
       "      <td>campinas</td>\n",
       "      <td>SP</td>\n",
       "    </tr>\n",
       "    <tr>\n",
       "      <th>5</th>\n",
       "      <td>delivered</td>\n",
       "      <td>259.90</td>\n",
       "      <td>22.31</td>\n",
       "      <td>esporte_lazer</td>\n",
       "      <td>2.0</td>\n",
       "      <td>4450.0</td>\n",
       "      <td>60.0</td>\n",
       "      <td>15.0</td>\n",
       "      <td>15.0</td>\n",
       "      <td>5.0</td>\n",
       "      <td>NaN</td>\n",
       "      <td>Loja responsável</td>\n",
       "      <td>1.0</td>\n",
       "      <td>debit_card</td>\n",
       "      <td>1.0</td>\n",
       "      <td>282.21</td>\n",
       "      <td>pirituba</td>\n",
       "      <td>SP</td>\n",
       "      <td>jaragua do sul</td>\n",
       "      <td>SC</td>\n",
       "    </tr>\n",
       "    <tr>\n",
       "      <th>8</th>\n",
       "      <td>delivered</td>\n",
       "      <td>25.00</td>\n",
       "      <td>14.10</td>\n",
       "      <td>brinquedos</td>\n",
       "      <td>5.0</td>\n",
       "      <td>350.0</td>\n",
       "      <td>28.0</td>\n",
       "      <td>10.0</td>\n",
       "      <td>12.0</td>\n",
       "      <td>5.0</td>\n",
       "      <td>NaN</td>\n",
       "      <td>chegou antes do prometido</td>\n",
       "      <td>1.0</td>\n",
       "      <td>debit_card</td>\n",
       "      <td>1.0</td>\n",
       "      <td>39.10</td>\n",
       "      <td>rio de janeiro</td>\n",
       "      <td>RJ</td>\n",
       "      <td>curitiba</td>\n",
       "      <td>PR</td>\n",
       "    </tr>\n",
       "    <tr>\n",
       "      <th>9</th>\n",
       "      <td>delivered</td>\n",
       "      <td>99.90</td>\n",
       "      <td>22.57</td>\n",
       "      <td>moveis_decoracao</td>\n",
       "      <td>1.0</td>\n",
       "      <td>2500.0</td>\n",
       "      <td>40.0</td>\n",
       "      <td>10.0</td>\n",
       "      <td>30.0</td>\n",
       "      <td>5.0</td>\n",
       "      <td>NaN</td>\n",
       "      <td>ótimo, entregou antes da data prevista.</td>\n",
       "      <td>1.0</td>\n",
       "      <td>credit_card</td>\n",
       "      <td>1.0</td>\n",
       "      <td>122.47</td>\n",
       "      <td>curitiba</td>\n",
       "      <td>PR</td>\n",
       "      <td>belo horizonte</td>\n",
       "      <td>MG</td>\n",
       "    </tr>\n",
       "    <tr>\n",
       "      <th>10</th>\n",
       "      <td>delivered</td>\n",
       "      <td>25.30</td>\n",
       "      <td>15.10</td>\n",
       "      <td>automotivo</td>\n",
       "      <td>8.0</td>\n",
       "      <td>300.0</td>\n",
       "      <td>31.0</td>\n",
       "      <td>17.0</td>\n",
       "      <td>27.0</td>\n",
       "      <td>5.0</td>\n",
       "      <td>NaN</td>\n",
       "      <td>Td certo.Produto e prazo de entrega.</td>\n",
       "      <td>1.0</td>\n",
       "      <td>credit_card</td>\n",
       "      <td>1.0</td>\n",
       "      <td>40.40</td>\n",
       "      <td>piracicaba</td>\n",
       "      <td>SP</td>\n",
       "      <td>montes claros</td>\n",
       "      <td>MG</td>\n",
       "    </tr>\n",
       "    <tr>\n",
       "      <th>11</th>\n",
       "      <td>delivered</td>\n",
       "      <td>129.90</td>\n",
       "      <td>23.23</td>\n",
       "      <td>informatica_acessorios</td>\n",
       "      <td>1.0</td>\n",
       "      <td>2950.0</td>\n",
       "      <td>18.0</td>\n",
       "      <td>25.0</td>\n",
       "      <td>18.0</td>\n",
       "      <td>5.0</td>\n",
       "      <td>NaN</td>\n",
       "      <td>Pena o produto não ter sido entregue em casa, ...</td>\n",
       "      <td>1.0</td>\n",
       "      <td>credit_card</td>\n",
       "      <td>1.0</td>\n",
       "      <td>153.13</td>\n",
       "      <td>itatiba</td>\n",
       "      <td>SP</td>\n",
       "      <td>rio de janeiro</td>\n",
       "      <td>RJ</td>\n",
       "    </tr>\n",
       "    <tr>\n",
       "      <th>13</th>\n",
       "      <td>delivered</td>\n",
       "      <td>27.99</td>\n",
       "      <td>8.40</td>\n",
       "      <td>telefonia</td>\n",
       "      <td>6.0</td>\n",
       "      <td>300.0</td>\n",
       "      <td>17.0</td>\n",
       "      <td>4.0</td>\n",
       "      <td>12.0</td>\n",
       "      <td>3.0</td>\n",
       "      <td>NaN</td>\n",
       "      <td>Produto chegou no prazo o problema que veio na...</td>\n",
       "      <td>1.0</td>\n",
       "      <td>credit_card</td>\n",
       "      <td>3.0</td>\n",
       "      <td>36.39</td>\n",
       "      <td>sao paulo</td>\n",
       "      <td>SP</td>\n",
       "      <td>sao paulo</td>\n",
       "      <td>SP</td>\n",
       "    </tr>\n",
       "    <tr>\n",
       "      <th>15</th>\n",
       "      <td>delivered</td>\n",
       "      <td>129.00</td>\n",
       "      <td>40.23</td>\n",
       "      <td>ferramentas_jardim</td>\n",
       "      <td>1.0</td>\n",
       "      <td>8325.0</td>\n",
       "      <td>43.0</td>\n",
       "      <td>14.0</td>\n",
       "      <td>33.0</td>\n",
       "      <td>5.0</td>\n",
       "      <td>NaN</td>\n",
       "      <td>Ameiiii !!! excelente produto...excelente qual...</td>\n",
       "      <td>1.0</td>\n",
       "      <td>credit_card</td>\n",
       "      <td>3.0</td>\n",
       "      <td>169.23</td>\n",
       "      <td>cariacica</td>\n",
       "      <td>ES</td>\n",
       "      <td>piracicaba</td>\n",
       "      <td>SP</td>\n",
       "    </tr>\n",
       "    <tr>\n",
       "      <th>16</th>\n",
       "      <td>delivered</td>\n",
       "      <td>119.90</td>\n",
       "      <td>17.03</td>\n",
       "      <td>automotivo</td>\n",
       "      <td>5.0</td>\n",
       "      <td>1200.0</td>\n",
       "      <td>16.0</td>\n",
       "      <td>9.0</td>\n",
       "      <td>31.0</td>\n",
       "      <td>5.0</td>\n",
       "      <td>Recomendo</td>\n",
       "      <td>Produto chegou antes da data prevista.</td>\n",
       "      <td>1.0</td>\n",
       "      <td>credit_card</td>\n",
       "      <td>2.0</td>\n",
       "      <td>136.93</td>\n",
       "      <td>sao paulo</td>\n",
       "      <td>SP</td>\n",
       "      <td>rio de janeiro</td>\n",
       "      <td>RJ</td>\n",
       "    </tr>\n",
       "    <tr>\n",
       "      <th>18</th>\n",
       "      <td>delivered</td>\n",
       "      <td>89.90</td>\n",
       "      <td>12.13</td>\n",
       "      <td>cama_mesa_banho</td>\n",
       "      <td>1.0</td>\n",
       "      <td>1383.0</td>\n",
       "      <td>50.0</td>\n",
       "      <td>10.0</td>\n",
       "      <td>40.0</td>\n",
       "      <td>3.0</td>\n",
       "      <td>NaN</td>\n",
       "      <td>o produto não foi entregue ainda por inconsist...</td>\n",
       "      <td>2.0</td>\n",
       "      <td>voucher</td>\n",
       "      <td>1.0</td>\n",
       "      <td>34.05</td>\n",
       "      <td>ibitinga</td>\n",
       "      <td>SP</td>\n",
       "      <td>sao paulo</td>\n",
       "      <td>SP</td>\n",
       "    </tr>\n",
       "  </tbody>\n",
       "</table>\n",
       "</div>"
      ],
      "text/plain": [
       "   order_status   price  freight_value   product_category_name  \\\n",
       "4     delivered  230.00          22.25           casa_conforto   \n",
       "5     delivered  259.90          22.31           esporte_lazer   \n",
       "8     delivered   25.00          14.10              brinquedos   \n",
       "9     delivered   99.90          22.57        moveis_decoracao   \n",
       "10    delivered   25.30          15.10              automotivo   \n",
       "11    delivered  129.90          23.23  informatica_acessorios   \n",
       "13    delivered   27.99           8.40               telefonia   \n",
       "15    delivered  129.00          40.23      ferramentas_jardim   \n",
       "16    delivered  119.90          17.03              automotivo   \n",
       "18    delivered   89.90          12.13         cama_mesa_banho   \n",
       "\n",
       "    product_photos_qty  product_weight_g  product_length_cm  \\\n",
       "4                  1.0            5200.0               45.0   \n",
       "5                  2.0            4450.0               60.0   \n",
       "8                  5.0             350.0               28.0   \n",
       "9                  1.0            2500.0               40.0   \n",
       "10                 8.0             300.0               31.0   \n",
       "11                 1.0            2950.0               18.0   \n",
       "13                 6.0             300.0               17.0   \n",
       "15                 1.0            8325.0               43.0   \n",
       "16                 5.0            1200.0               16.0   \n",
       "18                 1.0            1383.0               50.0   \n",
       "\n",
       "    product_height_cm  product_width_cm  review_score review_comment_title  \\\n",
       "4                15.0              35.0           5.0        a melhor nota   \n",
       "5                15.0              15.0           5.0                  NaN   \n",
       "8                10.0              12.0           5.0                  NaN   \n",
       "9                10.0              30.0           5.0                  NaN   \n",
       "10               17.0              27.0           5.0                  NaN   \n",
       "11               25.0              18.0           5.0                  NaN   \n",
       "13                4.0              12.0           3.0                  NaN   \n",
       "15               14.0              33.0           5.0                  NaN   \n",
       "16                9.0              31.0           5.0            Recomendo   \n",
       "18               10.0              40.0           3.0                  NaN   \n",
       "\n",
       "                               review_comment_message  payment_sequential  \\\n",
       "4       O baratheon è esxelente Amo adoro o baratheon                 1.0   \n",
       "5                                    Loja responsável                 1.0   \n",
       "8                           chegou antes do prometido                 1.0   \n",
       "9             ótimo, entregou antes da data prevista.                 1.0   \n",
       "10               Td certo.Produto e prazo de entrega.                 1.0   \n",
       "11  Pena o produto não ter sido entregue em casa, ...                 1.0   \n",
       "13  Produto chegou no prazo o problema que veio na...                 1.0   \n",
       "15  Ameiiii !!! excelente produto...excelente qual...                 1.0   \n",
       "16             Produto chegou antes da data prevista.                 1.0   \n",
       "18  o produto não foi entregue ainda por inconsist...                 2.0   \n",
       "\n",
       "   payment_type  payment_installments  payment_value     seller_city  \\\n",
       "4   credit_card                   8.0         252.25        ibitinga   \n",
       "5    debit_card                   1.0         282.21        pirituba   \n",
       "8    debit_card                   1.0          39.10  rio de janeiro   \n",
       "9   credit_card                   1.0         122.47        curitiba   \n",
       "10  credit_card                   1.0          40.40      piracicaba   \n",
       "11  credit_card                   1.0         153.13         itatiba   \n",
       "13  credit_card                   3.0          36.39       sao paulo   \n",
       "15  credit_card                   3.0         169.23       cariacica   \n",
       "16  credit_card                   2.0         136.93       sao paulo   \n",
       "18      voucher                   1.0          34.05        ibitinga   \n",
       "\n",
       "   seller_state   customer_city customer_state  \n",
       "4            SP        campinas             SP  \n",
       "5            SP  jaragua do sul             SC  \n",
       "8            RJ        curitiba             PR  \n",
       "9            PR  belo horizonte             MG  \n",
       "10           SP   montes claros             MG  \n",
       "11           SP  rio de janeiro             RJ  \n",
       "13           SP       sao paulo             SP  \n",
       "15           ES      piracicaba             SP  \n",
       "16           SP  rio de janeiro             RJ  \n",
       "18           SP       sao paulo             SP  "
      ]
     },
     "execution_count": 19,
     "metadata": {},
     "output_type": "execute_result"
    }
   ],
   "source": [
    "df.head(10)"
   ]
  },
  {
   "cell_type": "code",
   "execution_count": null,
   "id": "609a6acb-5362-4761-a9cb-27dfe983147e",
   "metadata": {},
   "outputs": [],
   "source": []
  },
  {
   "cell_type": "code",
   "execution_count": null,
   "id": "717428be-6de7-4035-af4c-3dbb3139d951",
   "metadata": {},
   "outputs": [],
   "source": [
    "#Agora vamos começar a análise exploratória dos dados"
   ]
  },
  {
   "cell_type": "code",
   "execution_count": null,
   "id": "cccd69e9-e9c5-4f4b-ada7-15b487182859",
   "metadata": {},
   "outputs": [],
   "source": []
  },
  {
   "cell_type": "code",
   "execution_count": null,
   "id": "3ca674d2-8935-4a3e-b3fc-6cdf6be9cd2a",
   "metadata": {},
   "outputs": [],
   "source": []
  },
  {
   "cell_type": "code",
   "execution_count": null,
   "id": "1cc56d92",
   "metadata": {
    "tags": []
   },
   "outputs": [],
   "source": [
    "#Vamos exportar essa base para csv. para termos uma melhor visualização no PowerQuerry\n",
    "df.to_excel('dados_tratados.xlsx', index = False, engine='openpyxl')"
   ]
  },
  {
   "cell_type": "code",
   "execution_count": null,
   "id": "4bd045fc",
   "metadata": {},
   "outputs": [],
   "source": [
    "\"\"\"\"\"\n",
    "nltk.download(\"stopwords\")\n",
    "nltk.download(\"punkt\")\n",
    "nltk.download(\"wordnet\")"
   ]
  },
  {
   "cell_type": "code",
   "execution_count": null,
   "id": "19e54e6d",
   "metadata": {},
   "outputs": [],
   "source": [
    "\"\"\"\"\"\n",
    "# Carregar dataset\n",
    "df = pd.read_csv(\"olist_order_reviews_dataset.csv\")\n",
    "\n",
    "# Inicializar lematizador\n",
    "lemmatizer = WordNetLemmatizer()\n",
    "stop_words = set(stopwords.words(\"portuguese\"))"
   ]
  },
  {
   "cell_type": "code",
   "execution_count": null,
   "id": "fbfa1eb2",
   "metadata": {},
   "outputs": [],
   "source": [
    "\"\"\"\"\n",
    "# Função de limpeza\n",
    "def preprocess_text(text):\n",
    "    if pd.isnull(text):\n",
    "        return \"\"\n",
    "    text = text.lower()  # Converter para minúsculas\n",
    "    text = re.sub(r\"[^\\w\\s]\", \"\", text)  # Remover pontuação\n",
    "    text = re.sub(r\"\\d+\", \"\", text)  # Remover números\n",
    "    tokens = word_tokenize(text)  # Tokenizar\n",
    "    tokens = [lemmatizer.lemmatize(word) for word in tokens if word not in stop_words]  # Remover stopwords e lematizar\n",
    "    return \" \".join(tokens)"
   ]
  },
  {
   "cell_type": "code",
   "execution_count": null,
   "id": "4bef22a0",
   "metadata": {},
   "outputs": [],
   "source": [
    "\"\"\"\"\n",
    "# Aplicar a limpeza nos comentários\n",
    "df[\"cleaned_review\"] = df[\"review_comment_message\"].apply(preprocess_text)\n",
    "print(df[[\"review_comment_message\", \"cleaned_review\"]].head())"
   ]
  }
 ],
 "metadata": {
  "kernelspec": {
   "display_name": "Python 3 (ipykernel)",
   "language": "python",
   "name": "python3"
  },
  "language_info": {
   "codemirror_mode": {
    "name": "ipython",
    "version": 3
   },
   "file_extension": ".py",
   "mimetype": "text/x-python",
   "name": "python",
   "nbconvert_exporter": "python",
   "pygments_lexer": "ipython3",
   "version": "3.11.4"
  }
 },
 "nbformat": 4,
 "nbformat_minor": 5
}
