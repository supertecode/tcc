{
 "cells": [
  {
   "cell_type": "markdown",
   "id": "14ef527a-42fd-477b-ada2-5e11adaa7cb3",
   "metadata": {
    "tags": []
   },
   "source": [
    "# TCC - Previsão de damanda por meio de aprendizado de máquina usando Análise de Sentimento"
   ]
  },
  {
   "cell_type": "markdown",
   "id": "ec6a9da7-4244-4875-8b6d-278fae679301",
   "metadata": {},
   "source": [
    "## Importação das bibliotecas necessárias para o projeto"
   ]
  },
  {
   "cell_type": "code",
   "execution_count": 1,
   "id": "b0b59b60",
   "metadata": {
    "tags": []
   },
   "outputs": [],
   "source": [
    "import pandas as pd\n",
    "#import re\n",
    "#import nltk\n",
    "#from nltk.corpus import stopwords\n",
    "#from nltk.tokenize import word_tokenize\n",
    "#from nltk.stem import WordNetLemmatizer"
   ]
  },
  {
   "cell_type": "markdown",
   "id": "da025481-72e0-44c9-b484-47d07cf324e9",
   "metadata": {},
   "source": [
    "## Carregar os datasets que serão utilizados"
   ]
  },
  {
   "cell_type": "code",
   "execution_count": 2,
   "id": "b045f04d",
   "metadata": {
    "tags": []
   },
   "outputs": [],
   "source": [
    "# Carregar os datasets que serão utilizados\n",
    "orders = pd.read_csv(\"Data/olist_orders_dataset.csv\")\n",
    "order_items = pd.read_csv(\"Data/olist_order_items_dataset.csv\")\n",
    "products = pd.read_csv(\"Data/olist_products_dataset.csv\")\n",
    "reviews = pd.read_csv(\"Data/olist_order_reviews_dataset.csv\")\n",
    "payments = pd.read_csv(\"Data/olist_order_payments_dataset.csv\") \n",
    "sellers = pd.read_csv(\"Data/olist_sellers_dataset.csv\")\n",
    "customer =pd.read_csv(\"Data/olist_customers_dataset.csv\")\n",
    "geolocation = pd.read_csv(\"Data/olist_geolocation_dataset.csv\")"
   ]
  },
  {
   "cell_type": "markdown",
   "id": "312c9c62-5442-4cf5-8419-4f420bc73d89",
   "metadata": {},
   "source": [
    "## Concatenação das bases de dados"
   ]
  },
  {
   "cell_type": "code",
   "execution_count": 3,
   "id": "a838673a",
   "metadata": {
    "tags": []
   },
   "outputs": [],
   "source": [
    "# Unindo tabelas pela chave primária\n",
    "df = orders.merge(order_items, on=\"order_id\", how=\"left\")  # Junta pedidos com itens\n",
    "df = df.merge(products, on=\"product_id\", how=\"left\")  # Junta produtos\n",
    "df = df.merge(reviews, on=\"order_id\", how=\"left\")  # Junta avaliações\n",
    "df = df.merge(payments, on=\"order_id\", how=\"right\")\n",
    "df = df.merge(sellers, on=\"seller_id\", how=\"right\")\n",
    "df = df.merge(customer, on=\"customer_id\", how=\"right\")"
   ]
  },
  {
   "cell_type": "markdown",
   "id": "ce98b8e3-621f-433f-b7c8-319cb3423926",
   "metadata": {},
   "source": [
    "## Visualização inicial da base de dados"
   ]
  },
  {
   "cell_type": "code",
   "execution_count": 4,
   "id": "923d1312-31fa-43e2-aad6-4e1010a3f13f",
   "metadata": {
    "tags": []
   },
   "outputs": [
    {
     "data": {
      "text/html": [
       "<div>\n",
       "<style scoped>\n",
       "    .dataframe tbody tr th:only-of-type {\n",
       "        vertical-align: middle;\n",
       "    }\n",
       "\n",
       "    .dataframe tbody tr th {\n",
       "        vertical-align: top;\n",
       "    }\n",
       "\n",
       "    .dataframe thead th {\n",
       "        text-align: right;\n",
       "    }\n",
       "</style>\n",
       "<table border=\"1\" class=\"dataframe\">\n",
       "  <thead>\n",
       "    <tr style=\"text-align: right;\">\n",
       "      <th></th>\n",
       "      <th>order_id</th>\n",
       "      <th>customer_id</th>\n",
       "      <th>order_status</th>\n",
       "      <th>order_purchase_timestamp</th>\n",
       "      <th>order_approved_at</th>\n",
       "      <th>order_delivered_carrier_date</th>\n",
       "      <th>order_delivered_customer_date</th>\n",
       "      <th>order_estimated_delivery_date</th>\n",
       "      <th>order_item_id</th>\n",
       "      <th>product_id</th>\n",
       "      <th>...</th>\n",
       "      <th>payment_type</th>\n",
       "      <th>payment_installments</th>\n",
       "      <th>payment_value</th>\n",
       "      <th>seller_zip_code_prefix</th>\n",
       "      <th>seller_city</th>\n",
       "      <th>seller_state</th>\n",
       "      <th>customer_unique_id</th>\n",
       "      <th>customer_zip_code_prefix</th>\n",
       "      <th>customer_city</th>\n",
       "      <th>customer_state</th>\n",
       "    </tr>\n",
       "  </thead>\n",
       "  <tbody>\n",
       "    <tr>\n",
       "      <th>0</th>\n",
       "      <td>00e7ee1b050b8499577073aeb2a297a1</td>\n",
       "      <td>06b8999e2fba1a1fbc88172c00ba8bc7</td>\n",
       "      <td>delivered</td>\n",
       "      <td>2017-05-16 15:05:35</td>\n",
       "      <td>2017-05-16 15:22:12</td>\n",
       "      <td>2017-05-23 10:47:57</td>\n",
       "      <td>2017-05-25 10:35:35</td>\n",
       "      <td>2017-06-05 00:00:00</td>\n",
       "      <td>1.0</td>\n",
       "      <td>a9516a079e37a9c9c36b9b78b10169e8</td>\n",
       "      <td>...</td>\n",
       "      <td>credit_card</td>\n",
       "      <td>2.0</td>\n",
       "      <td>146.87</td>\n",
       "      <td>8577.0</td>\n",
       "      <td>itaquaquecetuba</td>\n",
       "      <td>SP</td>\n",
       "      <td>861eff4711a542e4b93843c6dd7febb0</td>\n",
       "      <td>14409</td>\n",
       "      <td>franca</td>\n",
       "      <td>SP</td>\n",
       "    </tr>\n",
       "    <tr>\n",
       "      <th>1</th>\n",
       "      <td>29150127e6685892b6eab3eec79f59c7</td>\n",
       "      <td>18955e83d337fd6b2def6b18a428ac77</td>\n",
       "      <td>delivered</td>\n",
       "      <td>2018-01-12 20:48:24</td>\n",
       "      <td>2018-01-12 20:58:32</td>\n",
       "      <td>2018-01-15 17:14:59</td>\n",
       "      <td>2018-01-29 12:41:19</td>\n",
       "      <td>2018-02-06 00:00:00</td>\n",
       "      <td>1.0</td>\n",
       "      <td>4aa6014eceb682077f9dc4bffebc05b0</td>\n",
       "      <td>...</td>\n",
       "      <td>credit_card</td>\n",
       "      <td>8.0</td>\n",
       "      <td>335.48</td>\n",
       "      <td>88303.0</td>\n",
       "      <td>itajai</td>\n",
       "      <td>SC</td>\n",
       "      <td>290c77bc529b7ac935b93aa66c333dc3</td>\n",
       "      <td>9790</td>\n",
       "      <td>sao bernardo do campo</td>\n",
       "      <td>SP</td>\n",
       "    </tr>\n",
       "    <tr>\n",
       "      <th>2</th>\n",
       "      <td>b2059ed67ce144a36e2aa97d2c9e9ad2</td>\n",
       "      <td>4e7b3e00288586ebd08712fdd0374a03</td>\n",
       "      <td>delivered</td>\n",
       "      <td>2018-05-19 16:07:45</td>\n",
       "      <td>2018-05-20 16:19:10</td>\n",
       "      <td>2018-06-11 14:31:00</td>\n",
       "      <td>2018-06-14 17:58:51</td>\n",
       "      <td>2018-06-13 00:00:00</td>\n",
       "      <td>1.0</td>\n",
       "      <td>bd07b66896d6f1494f5b86251848ced7</td>\n",
       "      <td>...</td>\n",
       "      <td>credit_card</td>\n",
       "      <td>7.0</td>\n",
       "      <td>157.73</td>\n",
       "      <td>8577.0</td>\n",
       "      <td>itaquaquecetuba</td>\n",
       "      <td>SP</td>\n",
       "      <td>060e732b5b29e8181a18229c7b0b2b5e</td>\n",
       "      <td>1151</td>\n",
       "      <td>sao paulo</td>\n",
       "      <td>SP</td>\n",
       "    </tr>\n",
       "    <tr>\n",
       "      <th>3</th>\n",
       "      <td>951670f92359f4fe4a63112aa7306eba</td>\n",
       "      <td>b2b6027bc5c5109e529d4dc6358b12c3</td>\n",
       "      <td>delivered</td>\n",
       "      <td>2018-03-13 16:06:38</td>\n",
       "      <td>2018-03-13 17:29:19</td>\n",
       "      <td>2018-03-27 23:22:42</td>\n",
       "      <td>2018-03-28 16:04:25</td>\n",
       "      <td>2018-04-10 00:00:00</td>\n",
       "      <td>1.0</td>\n",
       "      <td>a5647c44af977b148e0a3a4751a09e2e</td>\n",
       "      <td>...</td>\n",
       "      <td>credit_card</td>\n",
       "      <td>1.0</td>\n",
       "      <td>173.30</td>\n",
       "      <td>8577.0</td>\n",
       "      <td>itaquaquecetuba</td>\n",
       "      <td>SP</td>\n",
       "      <td>259dac757896d24d7702b9acbbff3f3c</td>\n",
       "      <td>8775</td>\n",
       "      <td>mogi das cruzes</td>\n",
       "      <td>SP</td>\n",
       "    </tr>\n",
       "    <tr>\n",
       "      <th>4</th>\n",
       "      <td>6b7d50bd145f6fc7f33cebabd7e49d0f</td>\n",
       "      <td>4f2d8ab171c80ec8364f7c12e35b23ad</td>\n",
       "      <td>delivered</td>\n",
       "      <td>2018-07-29 09:51:30</td>\n",
       "      <td>2018-07-29 10:10:09</td>\n",
       "      <td>2018-07-30 15:16:00</td>\n",
       "      <td>2018-08-09 20:55:48</td>\n",
       "      <td>2018-08-15 00:00:00</td>\n",
       "      <td>1.0</td>\n",
       "      <td>9391a573abe00141c56e38d84d7d5b3b</td>\n",
       "      <td>...</td>\n",
       "      <td>credit_card</td>\n",
       "      <td>8.0</td>\n",
       "      <td>252.25</td>\n",
       "      <td>14940.0</td>\n",
       "      <td>ibitinga</td>\n",
       "      <td>SP</td>\n",
       "      <td>345ecd01c38d18a9036ed96c73b8d066</td>\n",
       "      <td>13056</td>\n",
       "      <td>campinas</td>\n",
       "      <td>SP</td>\n",
       "    </tr>\n",
       "  </tbody>\n",
       "</table>\n",
       "<p>5 rows × 39 columns</p>\n",
       "</div>"
      ],
      "text/plain": [
       "                           order_id                       customer_id  \\\n",
       "0  00e7ee1b050b8499577073aeb2a297a1  06b8999e2fba1a1fbc88172c00ba8bc7   \n",
       "1  29150127e6685892b6eab3eec79f59c7  18955e83d337fd6b2def6b18a428ac77   \n",
       "2  b2059ed67ce144a36e2aa97d2c9e9ad2  4e7b3e00288586ebd08712fdd0374a03   \n",
       "3  951670f92359f4fe4a63112aa7306eba  b2b6027bc5c5109e529d4dc6358b12c3   \n",
       "4  6b7d50bd145f6fc7f33cebabd7e49d0f  4f2d8ab171c80ec8364f7c12e35b23ad   \n",
       "\n",
       "  order_status order_purchase_timestamp    order_approved_at  \\\n",
       "0    delivered      2017-05-16 15:05:35  2017-05-16 15:22:12   \n",
       "1    delivered      2018-01-12 20:48:24  2018-01-12 20:58:32   \n",
       "2    delivered      2018-05-19 16:07:45  2018-05-20 16:19:10   \n",
       "3    delivered      2018-03-13 16:06:38  2018-03-13 17:29:19   \n",
       "4    delivered      2018-07-29 09:51:30  2018-07-29 10:10:09   \n",
       "\n",
       "  order_delivered_carrier_date order_delivered_customer_date  \\\n",
       "0          2017-05-23 10:47:57           2017-05-25 10:35:35   \n",
       "1          2018-01-15 17:14:59           2018-01-29 12:41:19   \n",
       "2          2018-06-11 14:31:00           2018-06-14 17:58:51   \n",
       "3          2018-03-27 23:22:42           2018-03-28 16:04:25   \n",
       "4          2018-07-30 15:16:00           2018-08-09 20:55:48   \n",
       "\n",
       "  order_estimated_delivery_date  order_item_id  \\\n",
       "0           2017-06-05 00:00:00            1.0   \n",
       "1           2018-02-06 00:00:00            1.0   \n",
       "2           2018-06-13 00:00:00            1.0   \n",
       "3           2018-04-10 00:00:00            1.0   \n",
       "4           2018-08-15 00:00:00            1.0   \n",
       "\n",
       "                         product_id  ... payment_type payment_installments  \\\n",
       "0  a9516a079e37a9c9c36b9b78b10169e8  ...  credit_card                  2.0   \n",
       "1  4aa6014eceb682077f9dc4bffebc05b0  ...  credit_card                  8.0   \n",
       "2  bd07b66896d6f1494f5b86251848ced7  ...  credit_card                  7.0   \n",
       "3  a5647c44af977b148e0a3a4751a09e2e  ...  credit_card                  1.0   \n",
       "4  9391a573abe00141c56e38d84d7d5b3b  ...  credit_card                  8.0   \n",
       "\n",
       "   payment_value  seller_zip_code_prefix      seller_city  seller_state  \\\n",
       "0         146.87                  8577.0  itaquaquecetuba            SP   \n",
       "1         335.48                 88303.0           itajai            SC   \n",
       "2         157.73                  8577.0  itaquaquecetuba            SP   \n",
       "3         173.30                  8577.0  itaquaquecetuba            SP   \n",
       "4         252.25                 14940.0         ibitinga            SP   \n",
       "\n",
       "                 customer_unique_id  customer_zip_code_prefix  \\\n",
       "0  861eff4711a542e4b93843c6dd7febb0                     14409   \n",
       "1  290c77bc529b7ac935b93aa66c333dc3                      9790   \n",
       "2  060e732b5b29e8181a18229c7b0b2b5e                      1151   \n",
       "3  259dac757896d24d7702b9acbbff3f3c                      8775   \n",
       "4  345ecd01c38d18a9036ed96c73b8d066                     13056   \n",
       "\n",
       "           customer_city  customer_state  \n",
       "0                 franca              SP  \n",
       "1  sao bernardo do campo              SP  \n",
       "2              sao paulo              SP  \n",
       "3        mogi das cruzes              SP  \n",
       "4               campinas              SP  \n",
       "\n",
       "[5 rows x 39 columns]"
      ]
     },
     "execution_count": 4,
     "metadata": {},
     "output_type": "execute_result"
    }
   ],
   "source": [
    "# Exibir as primeiras linhas\n",
    "df.head()"
   ]
  },
  {
   "cell_type": "code",
   "execution_count": 5,
   "id": "2fdb7d77",
   "metadata": {
    "tags": []
   },
   "outputs": [
    {
     "name": "stdout",
     "output_type": "stream",
     "text": [
      "<class 'pandas.core.frame.DataFrame'>\n",
      "Int64Index: 119091 entries, 0 to 119090\n",
      "Data columns (total 39 columns):\n",
      " #   Column                         Non-Null Count   Dtype  \n",
      "---  ------                         --------------   -----  \n",
      " 0   order_id                       118315 non-null  object \n",
      " 1   customer_id                    119091 non-null  object \n",
      " 2   order_status                   118315 non-null  object \n",
      " 3   order_purchase_timestamp       118315 non-null  object \n",
      " 4   order_approved_at              118300 non-null  object \n",
      " 5   order_delivered_carrier_date   117061 non-null  object \n",
      " 6   order_delivered_customer_date  115727 non-null  object \n",
      " 7   order_estimated_delivery_date  118315 non-null  object \n",
      " 8   order_item_id                  118315 non-null  float64\n",
      " 9   product_id                     118315 non-null  object \n",
      " 10  seller_id                      118315 non-null  object \n",
      " 11  shipping_limit_date            118315 non-null  object \n",
      " 12  price                          118315 non-null  float64\n",
      " 13  freight_value                  118315 non-null  float64\n",
      " 14  product_category_name          116606 non-null  object \n",
      " 15  product_name_lenght            116606 non-null  float64\n",
      " 16  product_description_lenght     116606 non-null  float64\n",
      " 17  product_photos_qty             116606 non-null  float64\n",
      " 18  product_weight_g               118295 non-null  float64\n",
      " 19  product_length_cm              118295 non-null  float64\n",
      " 20  product_height_cm              118295 non-null  float64\n",
      " 21  product_width_cm               118295 non-null  float64\n",
      " 22  review_id                      118315 non-null  object \n",
      " 23  review_score                   118315 non-null  float64\n",
      " 24  review_comment_title           14089 non-null   object \n",
      " 25  review_comment_message         50665 non-null   object \n",
      " 26  review_creation_date           118315 non-null  object \n",
      " 27  review_answer_timestamp        118315 non-null  object \n",
      " 28  payment_sequential             118315 non-null  float64\n",
      " 29  payment_type                   118315 non-null  object \n",
      " 30  payment_installments           118315 non-null  float64\n",
      " 31  payment_value                  118315 non-null  float64\n",
      " 32  seller_zip_code_prefix         118315 non-null  float64\n",
      " 33  seller_city                    118315 non-null  object \n",
      " 34  seller_state                   118315 non-null  object \n",
      " 35  customer_unique_id             119091 non-null  object \n",
      " 36  customer_zip_code_prefix       119091 non-null  int64  \n",
      " 37  customer_city                  119091 non-null  object \n",
      " 38  customer_state                 119091 non-null  object \n",
      "dtypes: float64(15), int64(1), object(23)\n",
      "memory usage: 36.3+ MB\n"
     ]
    }
   ],
   "source": [
    "# Exibir informações gerais da base de dados\n",
    "df.info()"
   ]
  },
  {
   "cell_type": "markdown",
   "id": "b2bb11a0-6f86-405b-8a07-5c11c95db546",
   "metadata": {},
   "source": [
    "## Verificação de valores nulos"
   ]
  },
  {
   "cell_type": "code",
   "execution_count": 6,
   "id": "240ae03f",
   "metadata": {
    "tags": []
   },
   "outputs": [
    {
     "name": "stdout",
     "output_type": "stream",
     "text": [
      "order_id                            776\n",
      "customer_id                           0\n",
      "order_status                        776\n",
      "order_purchase_timestamp            776\n",
      "order_approved_at                   791\n",
      "order_delivered_carrier_date       2030\n",
      "order_delivered_customer_date      3364\n",
      "order_estimated_delivery_date       776\n",
      "order_item_id                       776\n",
      "product_id                          776\n",
      "seller_id                           776\n",
      "shipping_limit_date                 776\n",
      "price                               776\n",
      "freight_value                       776\n",
      "product_category_name              2485\n",
      "product_name_lenght                2485\n",
      "product_description_lenght         2485\n",
      "product_photos_qty                 2485\n",
      "product_weight_g                    796\n",
      "product_length_cm                   796\n",
      "product_height_cm                   796\n",
      "product_width_cm                    796\n",
      "review_id                           776\n",
      "review_score                        776\n",
      "review_comment_title             105002\n",
      "review_comment_message            68426\n",
      "review_creation_date                776\n",
      "review_answer_timestamp             776\n",
      "payment_sequential                  776\n",
      "payment_type                        776\n",
      "payment_installments                776\n",
      "payment_value                       776\n",
      "seller_zip_code_prefix              776\n",
      "seller_city                         776\n",
      "seller_state                        776\n",
      "customer_unique_id                    0\n",
      "customer_zip_code_prefix              0\n",
      "customer_city                         0\n",
      "customer_state                        0\n",
      "dtype: int64\n"
     ]
    }
   ],
   "source": [
    "# Verificar valores nulos em cada coluna\n",
    "print(df.isnull().sum())\n",
    "# Antes de remover todos os valores nulos precisamos verificar quais colunas usaremos na etapa de processamento"
   ]
  },
  {
   "cell_type": "markdown",
   "id": "a98ba090-b08b-48ea-8b71-eebc5d0b497d",
   "metadata": {},
   "source": [
    "## Remoção de colunas com valores não relevantes\n",
    "  Antes de remover todos os valores nulos precisamos verificar quais colunas usaremos na etapa de processamento. \n",
    "  \n",
    "  Talvez seja necessário dar uma revisada no order_status, pois há pedidos que não estão em situação de entrega ou estão em outras situações.\n",
    "  \n",
    "  Acredito também que novos dados possam ser produzidos, exemplo: tempo de demora da entrega. A partir de dados como data de envio e data de chegada seria possível gerar essa nova informação "
   ]
  },
  {
   "cell_type": "code",
   "execution_count": 7,
   "id": "82b8434b-9c5d-4c6c-b467-a59382af08a8",
   "metadata": {
    "tags": []
   },
   "outputs": [],
   "source": [
    "df = df.drop([\"order_id\", \"customer_id\", \"order_item_id\", \"product_id\", \"seller_id\", \"review_id\",\"customer_unique_id\", \"review_creation_date\", \"review_answer_timestamp\",\n",
    "              \"order_approved_at\", \"order_delivered_carrier_date\" , \"product_name_lenght\", \"product_description_lenght\", \"seller_zip_code_prefix\", \"customer_zip_code_prefix\",\n",
    "              \"shipping_limit_date\"], axis=1)"
   ]
  },
  {
   "cell_type": "markdown",
   "id": "0907dcbd-30dd-4519-a5e6-9e7bfc727653",
   "metadata": {},
   "source": [
    "## Remoção de registros com valores duplicados"
   ]
  },
  {
   "cell_type": "code",
   "execution_count": 8,
   "id": "edddee07-094d-461e-88fb-c8d663357b3e",
   "metadata": {
    "tags": []
   },
   "outputs": [],
   "source": [
    "df = df.drop_duplicates(keep='first')"
   ]
  },
  {
   "cell_type": "markdown",
   "id": "85bb0168-bc53-4842-9790-37f0d262d8f5",
   "metadata": {
    "tags": []
   },
   "source": [
    "## Visualizando informações da base após a exclusão das colunas"
   ]
  },
  {
   "cell_type": "code",
   "execution_count": 9,
   "id": "586c4980-fc85-4c81-949e-792a671dfa5c",
   "metadata": {
    "tags": []
   },
   "outputs": [
    {
     "name": "stdout",
     "output_type": "stream",
     "text": [
      "<class 'pandas.core.frame.DataFrame'>\n",
      "Int64Index: 107545 entries, 0 to 119090\n",
      "Data columns (total 23 columns):\n",
      " #   Column                         Non-Null Count   Dtype  \n",
      "---  ------                         --------------   -----  \n",
      " 0   order_status                   107212 non-null  object \n",
      " 1   order_purchase_timestamp       107212 non-null  object \n",
      " 2   order_delivered_customer_date  104859 non-null  object \n",
      " 3   order_estimated_delivery_date  107212 non-null  object \n",
      " 4   price                          107212 non-null  float64\n",
      " 5   freight_value                  107212 non-null  float64\n",
      " 6   product_category_name          105654 non-null  object \n",
      " 7   product_photos_qty             105654 non-null  float64\n",
      " 8   product_weight_g               107194 non-null  float64\n",
      " 9   product_length_cm              107194 non-null  float64\n",
      " 10  product_height_cm              107194 non-null  float64\n",
      " 11  product_width_cm               107194 non-null  float64\n",
      " 12  review_score                   107212 non-null  float64\n",
      " 13  review_comment_title           12624 non-null   object \n",
      " 14  review_comment_message         45184 non-null   object \n",
      " 15  payment_sequential             107212 non-null  float64\n",
      " 16  payment_type                   107212 non-null  object \n",
      " 17  payment_installments           107212 non-null  float64\n",
      " 18  payment_value                  107212 non-null  float64\n",
      " 19  seller_city                    107212 non-null  object \n",
      " 20  seller_state                   107212 non-null  object \n",
      " 21  customer_city                  107545 non-null  object \n",
      " 22  customer_state                 107545 non-null  object \n",
      "dtypes: float64(11), object(12)\n",
      "memory usage: 19.7+ MB\n"
     ]
    }
   ],
   "source": [
    "df.info()"
   ]
  },
  {
   "cell_type": "markdown",
   "id": "28cc0074-94a1-428f-aee3-5006ffb551e5",
   "metadata": {
    "tags": []
   },
   "source": [
    "### Criando a coluna que contém o tempo da entrega do pedido com base nas colunas \"order_purchase_timestamp\" (hora da compra) e \"order_delivered_customer_date\" (hora real em que o cliente teve sua encomenda entregue)"
   ]
  },
  {
   "cell_type": "code",
   "execution_count": 10,
   "id": "16d7271e-b8fd-4a63-abc1-3b51063ba9b8",
   "metadata": {
    "tags": []
   },
   "outputs": [
    {
     "data": {
      "text/html": [
       "<div>\n",
       "<style scoped>\n",
       "    .dataframe tbody tr th:only-of-type {\n",
       "        vertical-align: middle;\n",
       "    }\n",
       "\n",
       "    .dataframe tbody tr th {\n",
       "        vertical-align: top;\n",
       "    }\n",
       "\n",
       "    .dataframe thead th {\n",
       "        text-align: right;\n",
       "    }\n",
       "</style>\n",
       "<table border=\"1\" class=\"dataframe\">\n",
       "  <thead>\n",
       "    <tr style=\"text-align: right;\">\n",
       "      <th></th>\n",
       "      <th>order_purchase_timestamp</th>\n",
       "      <th>order_delivered_customer_date</th>\n",
       "    </tr>\n",
       "  </thead>\n",
       "  <tbody>\n",
       "    <tr>\n",
       "      <th>0</th>\n",
       "      <td>2017-05-16 15:05:35</td>\n",
       "      <td>2017-05-25 10:35:35</td>\n",
       "    </tr>\n",
       "    <tr>\n",
       "      <th>1</th>\n",
       "      <td>2018-01-12 20:48:24</td>\n",
       "      <td>2018-01-29 12:41:19</td>\n",
       "    </tr>\n",
       "    <tr>\n",
       "      <th>2</th>\n",
       "      <td>2018-05-19 16:07:45</td>\n",
       "      <td>2018-06-14 17:58:51</td>\n",
       "    </tr>\n",
       "    <tr>\n",
       "      <th>3</th>\n",
       "      <td>2018-03-13 16:06:38</td>\n",
       "      <td>2018-03-28 16:04:25</td>\n",
       "    </tr>\n",
       "    <tr>\n",
       "      <th>4</th>\n",
       "      <td>2018-07-29 09:51:30</td>\n",
       "      <td>2018-08-09 20:55:48</td>\n",
       "    </tr>\n",
       "  </tbody>\n",
       "</table>\n",
       "</div>"
      ],
      "text/plain": [
       "  order_purchase_timestamp order_delivered_customer_date\n",
       "0      2017-05-16 15:05:35           2017-05-25 10:35:35\n",
       "1      2018-01-12 20:48:24           2018-01-29 12:41:19\n",
       "2      2018-05-19 16:07:45           2018-06-14 17:58:51\n",
       "3      2018-03-13 16:06:38           2018-03-28 16:04:25\n",
       "4      2018-07-29 09:51:30           2018-08-09 20:55:48"
      ]
     },
     "execution_count": 10,
     "metadata": {},
     "output_type": "execute_result"
    }
   ],
   "source": [
    "df[[\"order_purchase_timestamp\", \"order_delivered_customer_date\"]].head()"
   ]
  },
  {
   "cell_type": "code",
   "execution_count": 12,
   "id": "37d0e33b-16b7-410b-a94f-aaedddf7d56b",
   "metadata": {
    "tags": []
   },
   "outputs": [],
   "source": [
    "df[\"order_purchase_timestamp\"] = pd.to_datetime(df[\"order_purchase_timestamp\"])\n",
    "df[\"order_delivered_customer_date\"] = pd.to_datetime(df[\"order_delivered_customer_date\"])\n",
    "df[\"delivery_time\"] = df[\"order_delivered_customer_date\"] - df[\"order_purchase_timestamp\"]"
   ]
  },
  {
   "cell_type": "code",
   "execution_count": 16,
   "id": "3b5e389d-0644-4262-b635-723fc7f5ee62",
   "metadata": {
    "tags": []
   },
   "outputs": [
    {
     "data": {
      "text/html": [
       "<div>\n",
       "<style scoped>\n",
       "    .dataframe tbody tr th:only-of-type {\n",
       "        vertical-align: middle;\n",
       "    }\n",
       "\n",
       "    .dataframe tbody tr th {\n",
       "        vertical-align: top;\n",
       "    }\n",
       "\n",
       "    .dataframe thead th {\n",
       "        text-align: right;\n",
       "    }\n",
       "</style>\n",
       "<table border=\"1\" class=\"dataframe\">\n",
       "  <thead>\n",
       "    <tr style=\"text-align: right;\">\n",
       "      <th></th>\n",
       "      <th>delivery_time</th>\n",
       "      <th>order_purchase_timestamp</th>\n",
       "      <th>order_delivered_customer_date</th>\n",
       "    </tr>\n",
       "  </thead>\n",
       "  <tbody>\n",
       "    <tr>\n",
       "      <th>0</th>\n",
       "      <td>8 days 19:30:00</td>\n",
       "      <td>2017-05-16 15:05:35</td>\n",
       "      <td>2017-05-25 10:35:35</td>\n",
       "    </tr>\n",
       "    <tr>\n",
       "      <th>1</th>\n",
       "      <td>16 days 15:52:55</td>\n",
       "      <td>2018-01-12 20:48:24</td>\n",
       "      <td>2018-01-29 12:41:19</td>\n",
       "    </tr>\n",
       "    <tr>\n",
       "      <th>2</th>\n",
       "      <td>26 days 01:51:06</td>\n",
       "      <td>2018-05-19 16:07:45</td>\n",
       "      <td>2018-06-14 17:58:51</td>\n",
       "    </tr>\n",
       "    <tr>\n",
       "      <th>3</th>\n",
       "      <td>14 days 23:57:47</td>\n",
       "      <td>2018-03-13 16:06:38</td>\n",
       "      <td>2018-03-28 16:04:25</td>\n",
       "    </tr>\n",
       "    <tr>\n",
       "      <th>4</th>\n",
       "      <td>11 days 11:04:18</td>\n",
       "      <td>2018-07-29 09:51:30</td>\n",
       "      <td>2018-08-09 20:55:48</td>\n",
       "    </tr>\n",
       "  </tbody>\n",
       "</table>\n",
       "</div>"
      ],
      "text/plain": [
       "     delivery_time order_purchase_timestamp order_delivered_customer_date\n",
       "0  8 days 19:30:00      2017-05-16 15:05:35           2017-05-25 10:35:35\n",
       "1 16 days 15:52:55      2018-01-12 20:48:24           2018-01-29 12:41:19\n",
       "2 26 days 01:51:06      2018-05-19 16:07:45           2018-06-14 17:58:51\n",
       "3 14 days 23:57:47      2018-03-13 16:06:38           2018-03-28 16:04:25\n",
       "4 11 days 11:04:18      2018-07-29 09:51:30           2018-08-09 20:55:48"
      ]
     },
     "execution_count": 16,
     "metadata": {},
     "output_type": "execute_result"
    }
   ],
   "source": [
    "df[[\"delivery_time\",\"order_purchase_timestamp\",\"order_delivered_customer_date\"]].head()"
   ]
  },
  {
   "cell_type": "markdown",
   "id": "357f097e-79b2-4cee-a348-e132a9173d21",
   "metadata": {},
   "source": [
    "## Criando coluna que contém o tempo de entrega estimado com base nas colunas \"order_purchase_timestamp\" e \"order_estimated_delivery_date\" "
   ]
  },
  {
   "cell_type": "code",
   "execution_count": 18,
   "id": "10de98e9-6ef8-4463-93dc-e40a9e346c79",
   "metadata": {
    "tags": []
   },
   "outputs": [],
   "source": [
    "df[\"order_estimated_delivery_date\"] = pd.to_datetime(df[\"order_estimated_delivery_date\"])\n",
    "df[\"delivery_time_estimated\"] = df[\"order_estimated_delivery_date\"] - df[\"order_purchase_timestamp\"]"
   ]
  },
  {
   "cell_type": "code",
   "execution_count": 19,
   "id": "867dd024-d708-4668-9caa-9c08d372b146",
   "metadata": {
    "tags": []
   },
   "outputs": [
    {
     "data": {
      "text/html": [
       "<div>\n",
       "<style scoped>\n",
       "    .dataframe tbody tr th:only-of-type {\n",
       "        vertical-align: middle;\n",
       "    }\n",
       "\n",
       "    .dataframe tbody tr th {\n",
       "        vertical-align: top;\n",
       "    }\n",
       "\n",
       "    .dataframe thead th {\n",
       "        text-align: right;\n",
       "    }\n",
       "</style>\n",
       "<table border=\"1\" class=\"dataframe\">\n",
       "  <thead>\n",
       "    <tr style=\"text-align: right;\">\n",
       "      <th></th>\n",
       "      <th>delivery_time_estimated</th>\n",
       "      <th>order_purchase_timestamp</th>\n",
       "      <th>order_estimated_delivery_date</th>\n",
       "    </tr>\n",
       "  </thead>\n",
       "  <tbody>\n",
       "    <tr>\n",
       "      <th>0</th>\n",
       "      <td>19 days 08:54:25</td>\n",
       "      <td>2017-05-16 15:05:35</td>\n",
       "      <td>2017-06-05</td>\n",
       "    </tr>\n",
       "    <tr>\n",
       "      <th>1</th>\n",
       "      <td>24 days 03:11:36</td>\n",
       "      <td>2018-01-12 20:48:24</td>\n",
       "      <td>2018-02-06</td>\n",
       "    </tr>\n",
       "    <tr>\n",
       "      <th>2</th>\n",
       "      <td>24 days 07:52:15</td>\n",
       "      <td>2018-05-19 16:07:45</td>\n",
       "      <td>2018-06-13</td>\n",
       "    </tr>\n",
       "    <tr>\n",
       "      <th>3</th>\n",
       "      <td>27 days 07:53:22</td>\n",
       "      <td>2018-03-13 16:06:38</td>\n",
       "      <td>2018-04-10</td>\n",
       "    </tr>\n",
       "    <tr>\n",
       "      <th>4</th>\n",
       "      <td>16 days 14:08:30</td>\n",
       "      <td>2018-07-29 09:51:30</td>\n",
       "      <td>2018-08-15</td>\n",
       "    </tr>\n",
       "  </tbody>\n",
       "</table>\n",
       "</div>"
      ],
      "text/plain": [
       "  delivery_time_estimated order_purchase_timestamp  \\\n",
       "0        19 days 08:54:25      2017-05-16 15:05:35   \n",
       "1        24 days 03:11:36      2018-01-12 20:48:24   \n",
       "2        24 days 07:52:15      2018-05-19 16:07:45   \n",
       "3        27 days 07:53:22      2018-03-13 16:06:38   \n",
       "4        16 days 14:08:30      2018-07-29 09:51:30   \n",
       "\n",
       "  order_estimated_delivery_date  \n",
       "0                    2017-06-05  \n",
       "1                    2018-02-06  \n",
       "2                    2018-06-13  \n",
       "3                    2018-04-10  \n",
       "4                    2018-08-15  "
      ]
     },
     "execution_count": 19,
     "metadata": {},
     "output_type": "execute_result"
    }
   ],
   "source": [
    "df[[\"delivery_time_estimated\",\"order_purchase_timestamp\",\"order_estimated_delivery_date\"]].head()"
   ]
  },
  {
   "cell_type": "markdown",
   "id": "4dc55285-ee1d-4ab6-9d8b-f0036ed3a5ac",
   "metadata": {},
   "source": [
    "## Excluindo colunas \"order_purchase_timestamp\", \"order_delivered_customer_date\" e \"order_estimated_delivery_date\" "
   ]
  },
  {
   "cell_type": "code",
   "execution_count": 22,
   "id": "e3cfb604-c659-4074-a3b2-692b21a2c318",
   "metadata": {
    "tags": []
   },
   "outputs": [],
   "source": [
    "df = df.drop([\"order_purchase_timestamp\", \"order_delivered_customer_date\", \"order_estimated_delivery_date\"], axis=1)"
   ]
  },
  {
   "cell_type": "code",
   "execution_count": 23,
   "id": "6a9216f3-0968-4cb1-87f3-702b851785e0",
   "metadata": {
    "tags": []
   },
   "outputs": [
    {
     "name": "stdout",
     "output_type": "stream",
     "text": [
      "<class 'pandas.core.frame.DataFrame'>\n",
      "Int64Index: 107545 entries, 0 to 119090\n",
      "Data columns (total 22 columns):\n",
      " #   Column                   Non-Null Count   Dtype          \n",
      "---  ------                   --------------   -----          \n",
      " 0   order_status             107212 non-null  object         \n",
      " 1   price                    107212 non-null  float64        \n",
      " 2   freight_value            107212 non-null  float64        \n",
      " 3   product_category_name    105654 non-null  object         \n",
      " 4   product_photos_qty       105654 non-null  float64        \n",
      " 5   product_weight_g         107194 non-null  float64        \n",
      " 6   product_length_cm        107194 non-null  float64        \n",
      " 7   product_height_cm        107194 non-null  float64        \n",
      " 8   product_width_cm         107194 non-null  float64        \n",
      " 9   review_score             107212 non-null  float64        \n",
      " 10  review_comment_title     12624 non-null   object         \n",
      " 11  review_comment_message   45184 non-null   object         \n",
      " 12  payment_sequential       107212 non-null  float64        \n",
      " 13  payment_type             107212 non-null  object         \n",
      " 14  payment_installments     107212 non-null  float64        \n",
      " 15  payment_value            107212 non-null  float64        \n",
      " 16  seller_city              107212 non-null  object         \n",
      " 17  seller_state             107212 non-null  object         \n",
      " 18  customer_city            107545 non-null  object         \n",
      " 19  customer_state           107545 non-null  object         \n",
      " 20  delivery_time            104859 non-null  timedelta64[ns]\n",
      " 21  delivery_time_estimated  107212 non-null  timedelta64[ns]\n",
      "dtypes: float64(11), object(9), timedelta64[ns](2)\n",
      "memory usage: 18.9+ MB\n"
     ]
    }
   ],
   "source": [
    "df.info()"
   ]
  },
  {
   "cell_type": "markdown",
   "id": "5791e7d6-13e2-44fb-85d3-64af654a28f7",
   "metadata": {},
   "source": [
    "## Exclusão dos valores nulos na coluna \"review_comment_message\"\n",
    "   Iremos trabalhar somente com com os dados que possuem o campo reviw_comment_message, que é fundamental para a futura análise de sentimento"
   ]
  },
  {
   "cell_type": "code",
   "execution_count": 24,
   "id": "c061fc75-8812-4c8f-b67b-fa72c04df944",
   "metadata": {
    "tags": []
   },
   "outputs": [],
   "source": [
    "df = df.dropna(subset = [\"review_comment_message\"])"
   ]
  },
  {
   "cell_type": "code",
   "execution_count": 25,
   "id": "aadfbfe0-c5ff-40c5-a4ee-ce594e03df23",
   "metadata": {
    "tags": []
   },
   "outputs": [
    {
     "name": "stdout",
     "output_type": "stream",
     "text": [
      "<class 'pandas.core.frame.DataFrame'>\n",
      "Int64Index: 45184 entries, 4 to 119090\n",
      "Data columns (total 22 columns):\n",
      " #   Column                   Non-Null Count  Dtype          \n",
      "---  ------                   --------------  -----          \n",
      " 0   order_status             45184 non-null  object         \n",
      " 1   price                    45184 non-null  float64        \n",
      " 2   freight_value            45184 non-null  float64        \n",
      " 3   product_category_name    44487 non-null  object         \n",
      " 4   product_photos_qty       44487 non-null  float64        \n",
      " 5   product_weight_g         45172 non-null  float64        \n",
      " 6   product_length_cm        45172 non-null  float64        \n",
      " 7   product_height_cm        45172 non-null  float64        \n",
      " 8   product_width_cm         45172 non-null  float64        \n",
      " 9   review_score             45184 non-null  float64        \n",
      " 10  review_comment_title     10806 non-null  object         \n",
      " 11  review_comment_message   45184 non-null  object         \n",
      " 12  payment_sequential       45184 non-null  float64        \n",
      " 13  payment_type             45184 non-null  object         \n",
      " 14  payment_installments     45184 non-null  float64        \n",
      " 15  payment_value            45184 non-null  float64        \n",
      " 16  seller_city              45184 non-null  object         \n",
      " 17  seller_state             45184 non-null  object         \n",
      " 18  customer_city            45184 non-null  object         \n",
      " 19  customer_state           45184 non-null  object         \n",
      " 20  delivery_time            43625 non-null  timedelta64[ns]\n",
      " 21  delivery_time_estimated  45184 non-null  timedelta64[ns]\n",
      "dtypes: float64(11), object(9), timedelta64[ns](2)\n",
      "memory usage: 7.9+ MB\n"
     ]
    }
   ],
   "source": [
    "df.info()"
   ]
  },
  {
   "cell_type": "markdown",
   "id": "83dcb0ea-92e8-4d3d-b8b3-9601384e0f93",
   "metadata": {},
   "source": [
    "## Tratamento da coluna \"order_status\"\n",
    "   É preciso compreender como os valores dessa coluna estão dispostos"
   ]
  },
  {
   "cell_type": "code",
   "execution_count": 26,
   "id": "6f51c1bb-1914-4b7b-a219-7939dd4b01ae",
   "metadata": {
    "tags": []
   },
   "outputs": [
    {
     "data": {
      "text/plain": [
       "delivered      43623\n",
       "shipped          762\n",
       "canceled         337\n",
       "invoiced         232\n",
       "processing       224\n",
       "unavailable        6\n",
       "Name: order_status, dtype: int64"
      ]
     },
     "execution_count": 26,
     "metadata": {},
     "output_type": "execute_result"
    }
   ],
   "source": [
    "df[\"order_status\"].value_counts()"
   ]
  },
  {
   "cell_type": "code",
   "execution_count": 28,
   "id": "ddb7c94a-c316-4466-af6d-73656187268a",
   "metadata": {
    "tags": []
   },
   "outputs": [
    {
     "data": {
      "text/html": [
       "<div>\n",
       "<style scoped>\n",
       "    .dataframe tbody tr th:only-of-type {\n",
       "        vertical-align: middle;\n",
       "    }\n",
       "\n",
       "    .dataframe tbody tr th {\n",
       "        vertical-align: top;\n",
       "    }\n",
       "\n",
       "    .dataframe thead th {\n",
       "        text-align: right;\n",
       "    }\n",
       "</style>\n",
       "<table border=\"1\" class=\"dataframe\">\n",
       "  <thead>\n",
       "    <tr style=\"text-align: right;\">\n",
       "      <th></th>\n",
       "      <th>review_comment_message</th>\n",
       "    </tr>\n",
       "  </thead>\n",
       "  <tbody>\n",
       "    <tr>\n",
       "      <th>443</th>\n",
       "      <td>É a primeira vez que um produto não chega no p...</td>\n",
       "    </tr>\n",
       "    <tr>\n",
       "      <th>445</th>\n",
       "      <td>NÃO TENHO NADA A DIZER DO PROCUTO POIS AINDA N...</td>\n",
       "    </tr>\n",
       "    <tr>\n",
       "      <th>1047</th>\n",
       "      <td>0 correio não entregou a minha encomenda por q...</td>\n",
       "    </tr>\n",
       "    <tr>\n",
       "      <th>1207</th>\n",
       "      <td>Espero receber esta semana, o que não seria tã...</td>\n",
       "    </tr>\n",
       "    <tr>\n",
       "      <th>1697</th>\n",
       "      <td>Não recebi o produto da targaryen e já foi deb...</td>\n",
       "    </tr>\n",
       "  </tbody>\n",
       "</table>\n",
       "</div>"
      ],
      "text/plain": [
       "                                 review_comment_message\n",
       "443   É a primeira vez que um produto não chega no p...\n",
       "445   NÃO TENHO NADA A DIZER DO PROCUTO POIS AINDA N...\n",
       "1047  0 correio não entregou a minha encomenda por q...\n",
       "1207  Espero receber esta semana, o que não seria tã...\n",
       "1697  Não recebi o produto da targaryen e já foi deb..."
      ]
     },
     "execution_count": 28,
     "metadata": {},
     "output_type": "execute_result"
    }
   ],
   "source": [
    "df[df[\"order_status\"] == \"canceled\"][[\"review_comment_message\"]].head()"
   ]
  },
  {
   "cell_type": "code",
   "execution_count": 29,
   "id": "7592d4b9-9811-45ab-b76f-f732bb583d91",
   "metadata": {
    "tags": []
   },
   "outputs": [
    {
     "data": {
      "text/html": [
       "<div>\n",
       "<style scoped>\n",
       "    .dataframe tbody tr th:only-of-type {\n",
       "        vertical-align: middle;\n",
       "    }\n",
       "\n",
       "    .dataframe tbody tr th {\n",
       "        vertical-align: top;\n",
       "    }\n",
       "\n",
       "    .dataframe thead th {\n",
       "        text-align: right;\n",
       "    }\n",
       "</style>\n",
       "<table border=\"1\" class=\"dataframe\">\n",
       "  <thead>\n",
       "    <tr style=\"text-align: right;\">\n",
       "      <th></th>\n",
       "      <th>review_comment_message</th>\n",
       "    </tr>\n",
       "  </thead>\n",
       "  <tbody>\n",
       "    <tr>\n",
       "      <th>84</th>\n",
       "      <td>Não recebi o produto Ainda, mas aguardo recebe...</td>\n",
       "    </tr>\n",
       "    <tr>\n",
       "      <th>95</th>\n",
       "      <td>Acho um desrespeito pediram pra buscar no corr...</td>\n",
       "    </tr>\n",
       "    <tr>\n",
       "      <th>119</th>\n",
       "      <td>Fiz a compra e não entregou em minha casa. Fiz...</td>\n",
       "    </tr>\n",
       "    <tr>\n",
       "      <th>134</th>\n",
       "      <td>Chigling</td>\n",
       "    </tr>\n",
       "    <tr>\n",
       "      <th>264</th>\n",
       "      <td>Comprei o produto e até o momento não recebi. ...</td>\n",
       "    </tr>\n",
       "  </tbody>\n",
       "</table>\n",
       "</div>"
      ],
      "text/plain": [
       "                                review_comment_message\n",
       "84   Não recebi o produto Ainda, mas aguardo recebe...\n",
       "95   Acho um desrespeito pediram pra buscar no corr...\n",
       "119  Fiz a compra e não entregou em minha casa. Fiz...\n",
       "134                                           Chigling\n",
       "264  Comprei o produto e até o momento não recebi. ..."
      ]
     },
     "execution_count": 29,
     "metadata": {},
     "output_type": "execute_result"
    }
   ],
   "source": [
    "df[df[\"order_status\"] == \"shipped\"][[\"review_comment_message\"]].head()"
   ]
  },
  {
   "cell_type": "code",
   "execution_count": 30,
   "id": "08f97830-f3fd-4ef6-8ba7-c6a33be1b593",
   "metadata": {
    "tags": []
   },
   "outputs": [
    {
     "data": {
      "text/html": [
       "<div>\n",
       "<style scoped>\n",
       "    .dataframe tbody tr th:only-of-type {\n",
       "        vertical-align: middle;\n",
       "    }\n",
       "\n",
       "    .dataframe tbody tr th {\n",
       "        vertical-align: top;\n",
       "    }\n",
       "\n",
       "    .dataframe thead th {\n",
       "        text-align: right;\n",
       "    }\n",
       "</style>\n",
       "<table border=\"1\" class=\"dataframe\">\n",
       "  <thead>\n",
       "    <tr style=\"text-align: right;\">\n",
       "      <th></th>\n",
       "      <th>review_comment_message</th>\n",
       "    </tr>\n",
       "  </thead>\n",
       "  <tbody>\n",
       "    <tr>\n",
       "      <th>53</th>\n",
       "      <td>Comprei o produto fiz o pagamento na semana qu...</td>\n",
       "    </tr>\n",
       "    <tr>\n",
       "      <th>155</th>\n",
       "      <td>Recebi a ligação da empresa responsável pelo e...</td>\n",
       "    </tr>\n",
       "    <tr>\n",
       "      <th>457</th>\n",
       "      <td>CAROS,\\r\\n\\r\\nSolicitei o cancelamento deste p...</td>\n",
       "    </tr>\n",
       "    <tr>\n",
       "      <th>458</th>\n",
       "      <td>CAROS,\\r\\n\\r\\nSolicitei o cancelamento deste p...</td>\n",
       "    </tr>\n",
       "    <tr>\n",
       "      <th>979</th>\n",
       "      <td>Quero meu dinheiro de volta.</td>\n",
       "    </tr>\n",
       "  </tbody>\n",
       "</table>\n",
       "</div>"
      ],
      "text/plain": [
       "                                review_comment_message\n",
       "53   Comprei o produto fiz o pagamento na semana qu...\n",
       "155  Recebi a ligação da empresa responsável pelo e...\n",
       "457  CAROS,\\r\\n\\r\\nSolicitei o cancelamento deste p...\n",
       "458  CAROS,\\r\\n\\r\\nSolicitei o cancelamento deste p...\n",
       "979                      Quero meu dinheiro de volta. "
      ]
     },
     "execution_count": 30,
     "metadata": {},
     "output_type": "execute_result"
    }
   ],
   "source": [
    "df[df[\"order_status\"] == \"invoiced\"][[\"review_comment_message\"]].head()"
   ]
  },
  {
   "cell_type": "code",
   "execution_count": 31,
   "id": "9efb718b-49d7-40b8-812d-698148c37caf",
   "metadata": {
    "tags": []
   },
   "outputs": [
    {
     "data": {
      "text/html": [
       "<div>\n",
       "<style scoped>\n",
       "    .dataframe tbody tr th:only-of-type {\n",
       "        vertical-align: middle;\n",
       "    }\n",
       "\n",
       "    .dataframe tbody tr th {\n",
       "        vertical-align: top;\n",
       "    }\n",
       "\n",
       "    .dataframe thead th {\n",
       "        text-align: right;\n",
       "    }\n",
       "</style>\n",
       "<table border=\"1\" class=\"dataframe\">\n",
       "  <thead>\n",
       "    <tr style=\"text-align: right;\">\n",
       "      <th></th>\n",
       "      <th>review_comment_message</th>\n",
       "    </tr>\n",
       "  </thead>\n",
       "  <tbody>\n",
       "    <tr>\n",
       "      <th>1023</th>\n",
       "      <td>Meu produto não foi entregue até hoje e não te...</td>\n",
       "    </tr>\n",
       "    <tr>\n",
       "      <th>1517</th>\n",
       "      <td>Absurdo comprar um produto e ele não estar dis...</td>\n",
       "    </tr>\n",
       "    <tr>\n",
       "      <th>3455</th>\n",
       "      <td>Não entregaram e até hj não estornaram no meu ...</td>\n",
       "    </tr>\n",
       "    <tr>\n",
       "      <th>3474</th>\n",
       "      <td>Péssimo parceiros de vcs</td>\n",
       "    </tr>\n",
       "    <tr>\n",
       "      <th>3475</th>\n",
       "      <td>Péssimo parceiros de vcs</td>\n",
       "    </tr>\n",
       "  </tbody>\n",
       "</table>\n",
       "</div>"
      ],
      "text/plain": [
       "                                 review_comment_message\n",
       "1023  Meu produto não foi entregue até hoje e não te...\n",
       "1517  Absurdo comprar um produto e ele não estar dis...\n",
       "3455  Não entregaram e até hj não estornaram no meu ...\n",
       "3474                           Péssimo parceiros de vcs\n",
       "3475                           Péssimo parceiros de vcs"
      ]
     },
     "execution_count": 31,
     "metadata": {},
     "output_type": "execute_result"
    }
   ],
   "source": [
    "df[df[\"order_status\"] == \"processing\"][[\"review_comment_message\"]].head()"
   ]
  },
  {
   "cell_type": "code",
   "execution_count": 32,
   "id": "4e057971-c06d-4957-9acf-54cc4e64fbbc",
   "metadata": {
    "tags": []
   },
   "outputs": [
    {
     "data": {
      "text/html": [
       "<div>\n",
       "<style scoped>\n",
       "    .dataframe tbody tr th:only-of-type {\n",
       "        vertical-align: middle;\n",
       "    }\n",
       "\n",
       "    .dataframe tbody tr th {\n",
       "        vertical-align: top;\n",
       "    }\n",
       "\n",
       "    .dataframe thead th {\n",
       "        text-align: right;\n",
       "    }\n",
       "</style>\n",
       "<table border=\"1\" class=\"dataframe\">\n",
       "  <thead>\n",
       "    <tr style=\"text-align: right;\">\n",
       "      <th></th>\n",
       "      <th>review_comment_message</th>\n",
       "    </tr>\n",
       "  </thead>\n",
       "  <tbody>\n",
       "    <tr>\n",
       "      <th>4066</th>\n",
       "      <td>Produto não entregue, demoraram mais de um mês...</td>\n",
       "    </tr>\n",
       "    <tr>\n",
       "      <th>60173</th>\n",
       "      <td>Em 2 meses de espera não recebi o produto. Div...</td>\n",
       "    </tr>\n",
       "    <tr>\n",
       "      <th>70908</th>\n",
       "      <td>a empresa deixou disponível a venda como se ti...</td>\n",
       "    </tr>\n",
       "    <tr>\n",
       "      <th>74186</th>\n",
       "      <td>Eu comprei o produto no mês de Outubro com a i...</td>\n",
       "    </tr>\n",
       "    <tr>\n",
       "      <th>82323</th>\n",
       "      <td>Prazo não foi cumprido ... até hoje não chegou...</td>\n",
       "    </tr>\n",
       "  </tbody>\n",
       "</table>\n",
       "</div>"
      ],
      "text/plain": [
       "                                  review_comment_message\n",
       "4066   Produto não entregue, demoraram mais de um mês...\n",
       "60173  Em 2 meses de espera não recebi o produto. Div...\n",
       "70908  a empresa deixou disponível a venda como se ti...\n",
       "74186  Eu comprei o produto no mês de Outubro com a i...\n",
       "82323  Prazo não foi cumprido ... até hoje não chegou..."
      ]
     },
     "execution_count": 32,
     "metadata": {},
     "output_type": "execute_result"
    }
   ],
   "source": [
    "df[df[\"order_status\"] == \"unavailable\"][[\"review_comment_message\"]].head()"
   ]
  },
  {
   "cell_type": "markdown",
   "id": "57ea2394-2602-4544-8aa9-8a38eb52bad4",
   "metadata": {},
   "source": [
    "Percebemos que os produtos que ainda não foram entregues também podem ser avaliados em casos especificos como de cancelamento ou venda de produto indisponível por engano. Isso denotou que a coluna \"delivery_time\" assumirá valores nulos em alguns casos e deverá ser tratada de alguma forma. Portanto deixaremos a coluna \"order_status\" como ela está e partiremos para uma nova estratégia a fim de tratar a coluna \"delivery_time\" nos campos vazios."
   ]
  },
  {
   "cell_type": "markdown",
   "id": "b9c5d0b8-d888-4d2f-8460-8a5ff28b569c",
   "metadata": {},
   "source": [
    "## Verificando a disposição de valores nulos após as trativas"
   ]
  },
  {
   "cell_type": "code",
   "execution_count": 33,
   "id": "9bb14683-e962-4c6e-9ab8-6f6c5385921f",
   "metadata": {
    "tags": []
   },
   "outputs": [
    {
     "name": "stdout",
     "output_type": "stream",
     "text": [
      "order_status                   0\n",
      "price                          0\n",
      "freight_value                  0\n",
      "product_category_name        697\n",
      "product_photos_qty           697\n",
      "product_weight_g              12\n",
      "product_length_cm             12\n",
      "product_height_cm             12\n",
      "product_width_cm              12\n",
      "review_score                   0\n",
      "review_comment_title       34378\n",
      "review_comment_message         0\n",
      "payment_sequential             0\n",
      "payment_type                   0\n",
      "payment_installments           0\n",
      "payment_value                  0\n",
      "seller_city                    0\n",
      "seller_state                   0\n",
      "customer_city                  0\n",
      "customer_state                 0\n",
      "delivery_time               1559\n",
      "delivery_time_estimated        0\n",
      "dtype: int64\n"
     ]
    }
   ],
   "source": [
    "print(df.isnull().sum())"
   ]
  },
  {
   "cell_type": "markdown",
   "id": "3a428f35-5862-49e3-b70a-af85a8901a63",
   "metadata": {},
   "source": [
    "### Como os valores nulos são muito poucos comparados ao numéro total de registro vamos deletar todos e vamos deixar somente os valores nulos na \"coluna review_comment_title\" e \"delivery_time\" "
   ]
  },
  {
   "cell_type": "code",
   "execution_count": 34,
   "id": "8cf1da04-b728-41fc-804d-cd534c36016d",
   "metadata": {
    "tags": []
   },
   "outputs": [],
   "source": [
    "df = df.dropna(subset = [\"product_category_name\"])\n",
    "df = df.dropna(subset = [\"product_photos_qty\"])\n",
    "df = df.dropna(subset = [\"product_weight_g\"])\n",
    "df = df.dropna(subset = [\"product_length_cm\"])\n",
    "df = df.dropna(subset = [\"product_height_cm\"])\n",
    "df = df.dropna(subset = [\"product_width_cm\"])"
   ]
  },
  {
   "cell_type": "code",
   "execution_count": 35,
   "id": "87c7f672-f4e7-4e0d-a0fc-d9f042a50327",
   "metadata": {
    "tags": []
   },
   "outputs": [
    {
     "name": "stdout",
     "output_type": "stream",
     "text": [
      "order_status                   0\n",
      "price                          0\n",
      "freight_value                  0\n",
      "product_category_name          0\n",
      "product_photos_qty             0\n",
      "product_weight_g               0\n",
      "product_length_cm              0\n",
      "product_height_cm              0\n",
      "product_width_cm               0\n",
      "review_score                   0\n",
      "review_comment_title       33743\n",
      "review_comment_message         0\n",
      "payment_sequential             0\n",
      "payment_type                   0\n",
      "payment_installments           0\n",
      "payment_value                  0\n",
      "seller_city                    0\n",
      "seller_state                   0\n",
      "customer_city                  0\n",
      "customer_state                 0\n",
      "delivery_time               1518\n",
      "delivery_time_estimated        0\n",
      "dtype: int64\n"
     ]
    }
   ],
   "source": [
    "print(df.isnull().sum())"
   ]
  },
  {
   "cell_type": "code",
   "execution_count": 37,
   "id": "07afa238-c55a-4ce8-82a5-7a9e08940971",
   "metadata": {
    "tags": []
   },
   "outputs": [
    {
     "name": "stdout",
     "output_type": "stream",
     "text": [
      "<class 'pandas.core.frame.DataFrame'>\n",
      "Int64Index: 44487 entries, 4 to 119090\n",
      "Data columns (total 22 columns):\n",
      " #   Column                   Non-Null Count  Dtype          \n",
      "---  ------                   --------------  -----          \n",
      " 0   order_status             44487 non-null  object         \n",
      " 1   price                    44487 non-null  float64        \n",
      " 2   freight_value            44487 non-null  float64        \n",
      " 3   product_category_name    44487 non-null  object         \n",
      " 4   product_photos_qty       44487 non-null  float64        \n",
      " 5   product_weight_g         44487 non-null  float64        \n",
      " 6   product_length_cm        44487 non-null  float64        \n",
      " 7   product_height_cm        44487 non-null  float64        \n",
      " 8   product_width_cm         44487 non-null  float64        \n",
      " 9   review_score             44487 non-null  float64        \n",
      " 10  review_comment_title     10744 non-null  object         \n",
      " 11  review_comment_message   44487 non-null  object         \n",
      " 12  payment_sequential       44487 non-null  float64        \n",
      " 13  payment_type             44487 non-null  object         \n",
      " 14  payment_installments     44487 non-null  float64        \n",
      " 15  payment_value            44487 non-null  float64        \n",
      " 16  seller_city              44487 non-null  object         \n",
      " 17  seller_state             44487 non-null  object         \n",
      " 18  customer_city            44487 non-null  object         \n",
      " 19  customer_state           44487 non-null  object         \n",
      " 20  delivery_time            42969 non-null  timedelta64[ns]\n",
      " 21  delivery_time_estimated  44487 non-null  timedelta64[ns]\n",
      "dtypes: float64(11), object(9), timedelta64[ns](2)\n",
      "memory usage: 7.8+ MB\n"
     ]
    }
   ],
   "source": [
    "df.info()"
   ]
  },
  {
   "cell_type": "markdown",
   "id": "601a9d86-72d6-4964-b339-b2af89de9e02",
   "metadata": {
    "tags": []
   },
   "source": [
    "## Tratando as colunas \"review_comment_title\" e \"delivery_time\""
   ]
  },
  {
   "cell_type": "code",
   "execution_count": null,
   "id": "b3416cf5-1711-49b2-91db-f84e04b4ed88",
   "metadata": {},
   "outputs": [],
   "source": [
    "#Tratamento da coluna"
   ]
  },
  {
   "cell_type": "code",
   "execution_count": null,
   "id": "717428be-6de7-4035-af4c-3dbb3139d951",
   "metadata": {},
   "outputs": [],
   "source": [
    "#Verificar se há padrão entre título e comentário para tratamento dos valores nulos do campo título\n",
    "#Começar o tabalho escrito também com detalhamento do máximo de coisas possíveis"
   ]
  },
  {
   "cell_type": "markdown",
   "id": "7206c9f5-8aa7-4541-8ff8-ceedfa590910",
   "metadata": {},
   "source": [
    "## Analise exploratória dos dados"
   ]
  },
  {
   "cell_type": "code",
   "execution_count": null,
   "id": "3ca674d2-8935-4a3e-b3fc-6cdf6be9cd2a",
   "metadata": {},
   "outputs": [],
   "source": []
  },
  {
   "cell_type": "markdown",
   "id": "2392cb4e-f963-452b-903a-b1883889df9a",
   "metadata": {},
   "source": [
    "## Exportação da base de dados (ainda não usado)"
   ]
  },
  {
   "cell_type": "code",
   "execution_count": null,
   "id": "1cc56d92",
   "metadata": {
    "tags": []
   },
   "outputs": [],
   "source": [
    "#Vamos exportar essa base para csv. para termos uma melhor visualização no PowerQuerry\n",
    "df.to_excel('dados_tratados.xlsx', index = False, engine='openpyxl')"
   ]
  },
  {
   "cell_type": "markdown",
   "id": "bf7fc288-bd9c-459c-b1bc-ed06b3119229",
   "metadata": {},
   "source": [
    "## Processamento de linguagem natural (ainda não usado)"
   ]
  },
  {
   "cell_type": "code",
   "execution_count": null,
   "id": "4bd045fc",
   "metadata": {},
   "outputs": [],
   "source": [
    "\"\"\"\"\"\n",
    "nltk.download(\"stopwords\")\n",
    "nltk.download(\"punkt\")\n",
    "nltk.download(\"wordnet\")"
   ]
  },
  {
   "cell_type": "code",
   "execution_count": null,
   "id": "19e54e6d",
   "metadata": {},
   "outputs": [],
   "source": [
    "\"\"\"\"\"\n",
    "# Carregar dataset\n",
    "df = pd.read_csv(\"olist_order_reviews_dataset.csv\")\n",
    "\n",
    "# Inicializar lematizador\n",
    "lemmatizer = WordNetLemmatizer()\n",
    "stop_words = set(stopwords.words(\"portuguese\"))"
   ]
  },
  {
   "cell_type": "code",
   "execution_count": null,
   "id": "fbfa1eb2",
   "metadata": {},
   "outputs": [],
   "source": [
    "\"\"\"\"\n",
    "# Função de limpeza\n",
    "def preprocess_text(text):\n",
    "    if pd.isnull(text):\n",
    "        return \"\"\n",
    "    text = text.lower()  # Converter para minúsculas\n",
    "    text = re.sub(r\"[^\\w\\s]\", \"\", text)  # Remover pontuação\n",
    "    text = re.sub(r\"\\d+\", \"\", text)  # Remover números\n",
    "    tokens = word_tokenize(text)  # Tokenizar\n",
    "    tokens = [lemmatizer.lemmatize(word) for word in tokens if word not in stop_words]  # Remover stopwords e lematizar\n",
    "    return \" \".join(tokens)"
   ]
  },
  {
   "cell_type": "code",
   "execution_count": null,
   "id": "4bef22a0",
   "metadata": {},
   "outputs": [],
   "source": [
    "\"\"\"\"\n",
    "# Aplicar a limpeza nos comentários\n",
    "df[\"cleaned_review\"] = df[\"review_comment_message\"].apply(preprocess_text)\n",
    "print(df[[\"review_comment_message\", \"cleaned_review\"]].head())"
   ]
  }
 ],
 "metadata": {
  "kernelspec": {
   "display_name": "Python 3 (ipykernel)",
   "language": "python",
   "name": "python3"
  },
  "language_info": {
   "codemirror_mode": {
    "name": "ipython",
    "version": 3
   },
   "file_extension": ".py",
   "mimetype": "text/x-python",
   "name": "python",
   "nbconvert_exporter": "python",
   "pygments_lexer": "ipython3",
   "version": "3.11.4"
  }
 },
 "nbformat": 4,
 "nbformat_minor": 5
}
